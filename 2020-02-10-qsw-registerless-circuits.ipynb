{
 "cells": [
  {
   "cell_type": "code",
   "execution_count": 1,
   "metadata": {
    "ExecuteTime": {
     "end_time": "2020-02-11T16:09:43.114693Z",
     "start_time": "2020-02-11T16:09:41.440888Z"
    }
   },
   "outputs": [
    {
     "name": "stderr",
     "output_type": "stream",
     "text": [
      "/Users/kevin.krsulichibm.com/q/qiskit-terra/qiskit/__init__.py:78: DeprecationWarning: Using Qiskit with Python 3.5 is deprecated as of the 0.12.0 release. Support for running Qiskit with Python 3.5 will be removed at the Python 3.5 EoL on 09/13/2020.\n",
      "  \"Python 3.5 EoL on 09/13/2020.\", DeprecationWarning)\n"
     ]
    }
   ],
   "source": [
    "import qiskit as qk"
   ]
  },
  {
   "cell_type": "code",
   "execution_count": 2,
   "metadata": {
    "ExecuteTime": {
     "end_time": "2020-02-11T16:09:43.120484Z",
     "start_time": "2020-02-11T16:09:43.117448Z"
    }
   },
   "outputs": [],
   "source": [
    "from qiskit.circuit import ReglessQubit, ReglessClbit"
   ]
  },
  {
   "cell_type": "code",
   "execution_count": 3,
   "metadata": {
    "ExecuteTime": {
     "end_time": "2020-02-11T16:09:43.128085Z",
     "start_time": "2020-02-11T16:09:43.122319Z"
    }
   },
   "outputs": [],
   "source": [
    "qargs = [ReglessQubit() for _ in range(5)]\n",
    "cargs = [ReglessClbit() for _ in range(1)]"
   ]
  },
  {
   "cell_type": "code",
   "execution_count": 4,
   "metadata": {
    "ExecuteTime": {
     "end_time": "2020-02-11T16:09:43.138294Z",
     "start_time": "2020-02-11T16:09:43.131434Z"
    }
   },
   "outputs": [
    {
     "data": {
      "text/plain": [
       "[ReglessQubit(0x12ada9278),\n",
       " ReglessQubit(0x12ada91d0),\n",
       " ReglessQubit(0x12ada99b0),\n",
       " ReglessQubit(0x12ada94e0),\n",
       " ReglessQubit(0x12ada93c8)]"
      ]
     },
     "execution_count": 4,
     "metadata": {},
     "output_type": "execute_result"
    }
   ],
   "source": [
    "qargs"
   ]
  },
  {
   "cell_type": "code",
   "execution_count": 5,
   "metadata": {
    "ExecuteTime": {
     "end_time": "2020-02-11T16:09:43.147481Z",
     "start_time": "2020-02-11T16:09:43.142493Z"
    }
   },
   "outputs": [
    {
     "data": {
      "text/plain": [
       "[ReglessClbit(0x12ada9550)]"
      ]
     },
     "execution_count": 5,
     "metadata": {},
     "output_type": "execute_result"
    }
   ],
   "source": [
    "cargs"
   ]
  },
  {
   "cell_type": "code",
   "execution_count": 6,
   "metadata": {
    "ExecuteTime": {
     "end_time": "2020-02-11T16:09:43.154677Z",
     "start_time": "2020-02-11T16:09:43.150547Z"
    }
   },
   "outputs": [],
   "source": [
    "from qiskit.circuit import QuantumRegister, ClassicalRegister"
   ]
  },
  {
   "cell_type": "code",
   "execution_count": 7,
   "metadata": {
    "ExecuteTime": {
     "end_time": "2020-02-11T16:09:43.162228Z",
     "start_time": "2020-02-11T16:09:43.158034Z"
    }
   },
   "outputs": [],
   "source": [
    "qr = QuantumRegister(bits=qargs)\n",
    "cr = ClassicalRegister(bits=cargs)"
   ]
  },
  {
   "cell_type": "code",
   "execution_count": 8,
   "metadata": {
    "ExecuteTime": {
     "end_time": "2020-02-11T16:09:43.170584Z",
     "start_time": "2020-02-11T16:09:43.165440Z"
    }
   },
   "outputs": [
    {
     "data": {
      "text/plain": [
       "QuantumRegister(5, 'q0')"
      ]
     },
     "execution_count": 8,
     "metadata": {},
     "output_type": "execute_result"
    }
   ],
   "source": [
    "qr"
   ]
  },
  {
   "cell_type": "code",
   "execution_count": 9,
   "metadata": {
    "ExecuteTime": {
     "end_time": "2020-02-11T16:09:43.178292Z",
     "start_time": "2020-02-11T16:09:43.173447Z"
    }
   },
   "outputs": [
    {
     "data": {
      "text/plain": [
       "ClassicalRegister(1, 'c0')"
      ]
     },
     "execution_count": 9,
     "metadata": {},
     "output_type": "execute_result"
    }
   ],
   "source": [
    "cr"
   ]
  },
  {
   "cell_type": "code",
   "execution_count": 10,
   "metadata": {
    "ExecuteTime": {
     "end_time": "2020-02-11T16:09:43.185179Z",
     "start_time": "2020-02-11T16:09:43.180904Z"
    }
   },
   "outputs": [
    {
     "data": {
      "text/plain": [
       "ReglessQubit(0x12ada9278)"
      ]
     },
     "execution_count": 10,
     "metadata": {},
     "output_type": "execute_result"
    }
   ],
   "source": [
    "qr[0]"
   ]
  },
  {
   "cell_type": "code",
   "execution_count": 11,
   "metadata": {
    "ExecuteTime": {
     "end_time": "2020-02-11T16:09:43.193361Z",
     "start_time": "2020-02-11T16:09:43.187966Z"
    }
   },
   "outputs": [
    {
     "data": {
      "text/plain": [
       "ReglessClbit(0x12ada9550)"
      ]
     },
     "execution_count": 11,
     "metadata": {},
     "output_type": "execute_result"
    }
   ],
   "source": [
    "cr[0]"
   ]
  },
  {
   "cell_type": "code",
   "execution_count": 12,
   "metadata": {
    "ExecuteTime": {
     "end_time": "2020-02-11T16:09:43.200542Z",
     "start_time": "2020-02-11T16:09:43.196551Z"
    }
   },
   "outputs": [],
   "source": [
    "qc = qk.QuantumCircuit(qr, cr)"
   ]
  },
  {
   "cell_type": "code",
   "execution_count": 13,
   "metadata": {
    "ExecuteTime": {
     "end_time": "2020-02-11T16:09:43.209078Z",
     "start_time": "2020-02-11T16:09:43.203720Z"
    }
   },
   "outputs": [
    {
     "data": {
      "text/plain": [
       "[ReglessQubit(0x12ada9278),\n",
       " ReglessQubit(0x12ada91d0),\n",
       " ReglessQubit(0x12ada99b0),\n",
       " ReglessQubit(0x12ada94e0),\n",
       " ReglessQubit(0x12ada93c8)]"
      ]
     },
     "execution_count": 13,
     "metadata": {},
     "output_type": "execute_result"
    }
   ],
   "source": [
    "qc.qubits"
   ]
  },
  {
   "cell_type": "code",
   "execution_count": 14,
   "metadata": {
    "ExecuteTime": {
     "end_time": "2020-02-11T16:09:43.217442Z",
     "start_time": "2020-02-11T16:09:43.212087Z"
    }
   },
   "outputs": [
    {
     "data": {
      "text/plain": [
       "[ReglessClbit(0x12ada9550)]"
      ]
     },
     "execution_count": 14,
     "metadata": {},
     "output_type": "execute_result"
    }
   ],
   "source": [
    "qc.clbits"
   ]
  },
  {
   "cell_type": "code",
   "execution_count": 15,
   "metadata": {
    "ExecuteTime": {
     "end_time": "2020-02-11T16:09:43.227021Z",
     "start_time": "2020-02-11T16:09:43.220288Z"
    }
   },
   "outputs": [
    {
     "data": {
      "text/plain": [
       "{QuantumRegister(5, 'q0')}"
      ]
     },
     "execution_count": 15,
     "metadata": {},
     "output_type": "execute_result"
    }
   ],
   "source": [
    "qc.qregs"
   ]
  },
  {
   "cell_type": "code",
   "execution_count": 16,
   "metadata": {
    "ExecuteTime": {
     "end_time": "2020-02-11T16:09:43.237508Z",
     "start_time": "2020-02-11T16:09:43.231019Z"
    }
   },
   "outputs": [
    {
     "data": {
      "text/plain": [
       "{ClassicalRegister(1, 'c0')}"
      ]
     },
     "execution_count": 16,
     "metadata": {},
     "output_type": "execute_result"
    }
   ],
   "source": [
    "qc.cregs"
   ]
  },
  {
   "cell_type": "code",
   "execution_count": 17,
   "metadata": {
    "ExecuteTime": {
     "end_time": "2020-02-11T16:09:43.247849Z",
     "start_time": "2020-02-11T16:09:43.241317Z"
    }
   },
   "outputs": [
    {
     "data": {
      "text/plain": [
       "<qiskit.circuit.instructionset.InstructionSet at 0x12adb1668>"
      ]
     },
     "execution_count": 17,
     "metadata": {},
     "output_type": "execute_result"
    }
   ],
   "source": [
    "qc.h(qr[0])"
   ]
  },
  {
   "cell_type": "code",
   "execution_count": 18,
   "metadata": {
    "ExecuteTime": {
     "end_time": "2020-02-11T16:09:43.266257Z",
     "start_time": "2020-02-11T16:09:43.258831Z"
    }
   },
   "outputs": [
    {
     "data": {
      "text/plain": [
       "<qiskit.circuit.instructionset.InstructionSet at 0x12adbef60>"
      ]
     },
     "execution_count": 18,
     "metadata": {},
     "output_type": "execute_result"
    }
   ],
   "source": [
    "qc.h(0)"
   ]
  },
  {
   "cell_type": "code",
   "execution_count": 19,
   "metadata": {
    "ExecuteTime": {
     "end_time": "2020-02-11T16:09:43.276484Z",
     "start_time": "2020-02-11T16:09:43.270673Z"
    }
   },
   "outputs": [],
   "source": [
    "qc = qk.QuantumCircuit(5,3)"
   ]
  },
  {
   "cell_type": "code",
   "execution_count": 20,
   "metadata": {
    "ExecuteTime": {
     "end_time": "2020-02-11T16:09:43.285905Z",
     "start_time": "2020-02-11T16:09:43.279731Z"
    }
   },
   "outputs": [
    {
     "data": {
      "text/plain": [
       "[ReglessQubit(0x12adbe5f8),\n",
       " ReglessQubit(0x12adbeac8),\n",
       " ReglessQubit(0x12adbe908),\n",
       " ReglessQubit(0x12adbe160),\n",
       " ReglessQubit(0x12adbee80)]"
      ]
     },
     "execution_count": 20,
     "metadata": {},
     "output_type": "execute_result"
    }
   ],
   "source": [
    "qc.qubits"
   ]
  },
  {
   "cell_type": "code",
   "execution_count": 21,
   "metadata": {
    "ExecuteTime": {
     "end_time": "2020-02-11T16:09:43.294036Z",
     "start_time": "2020-02-11T16:09:43.288968Z"
    }
   },
   "outputs": [
    {
     "data": {
      "text/plain": [
       "[ReglessClbit(0x12adbe278),\n",
       " ReglessClbit(0x12adbea58),\n",
       " ReglessClbit(0x10a02b5f8)]"
      ]
     },
     "execution_count": 21,
     "metadata": {},
     "output_type": "execute_result"
    }
   ],
   "source": [
    "qc.clbits"
   ]
  },
  {
   "cell_type": "code",
   "execution_count": 22,
   "metadata": {
    "ExecuteTime": {
     "end_time": "2020-02-11T16:09:43.303282Z",
     "start_time": "2020-02-11T16:09:43.297091Z"
    }
   },
   "outputs": [
    {
     "data": {
      "text/plain": [
       "set()"
      ]
     },
     "execution_count": 22,
     "metadata": {},
     "output_type": "execute_result"
    }
   ],
   "source": [
    "qc.qregs"
   ]
  },
  {
   "cell_type": "code",
   "execution_count": 23,
   "metadata": {
    "ExecuteTime": {
     "end_time": "2020-02-11T16:09:43.314509Z",
     "start_time": "2020-02-11T16:09:43.306928Z"
    }
   },
   "outputs": [
    {
     "data": {
      "text/plain": [
       "set()"
      ]
     },
     "execution_count": 23,
     "metadata": {},
     "output_type": "execute_result"
    }
   ],
   "source": [
    "qc.cregs"
   ]
  },
  {
   "cell_type": "code",
   "execution_count": 24,
   "metadata": {
    "ExecuteTime": {
     "end_time": "2020-02-11T16:09:43.323378Z",
     "start_time": "2020-02-11T16:09:43.317853Z"
    }
   },
   "outputs": [
    {
     "data": {
      "text/plain": [
       "<qiskit.circuit.instructionset.InstructionSet at 0x12adb1358>"
      ]
     },
     "execution_count": 24,
     "metadata": {},
     "output_type": "execute_result"
    }
   ],
   "source": [
    "qc.h(0)"
   ]
  },
  {
   "cell_type": "code",
   "execution_count": 25,
   "metadata": {
    "ExecuteTime": {
     "end_time": "2020-02-11T16:09:43.330890Z",
     "start_time": "2020-02-11T16:09:43.325534Z"
    }
   },
   "outputs": [
    {
     "data": {
      "text/plain": [
       "<qiskit.circuit.instructionset.InstructionSet at 0x12adb17b8>"
      ]
     },
     "execution_count": 25,
     "metadata": {},
     "output_type": "execute_result"
    }
   ],
   "source": [
    "qc.h(qc.qubits[0])"
   ]
  },
  {
   "cell_type": "code",
   "execution_count": 26,
   "metadata": {
    "ExecuteTime": {
     "end_time": "2020-02-11T16:09:43.345207Z",
     "start_time": "2020-02-11T16:09:43.334189Z"
    }
   },
   "outputs": [
    {
     "name": "stdout",
     "output_type": "stream",
     "text": [
      "                               ┌───┐┌───┐\n",
      "ReglessQubit(0x12adbe5f8)_: |0>┤ H ├┤ H ├\n",
      "                               └───┘└───┘\n",
      "ReglessQubit(0x12adbeac8)_: |0>──────────\n",
      "                                         \n",
      "ReglessQubit(0x12adbe908)_: |0>──────────\n",
      "                                         \n",
      "ReglessQubit(0x12adbe160)_: |0>──────────\n",
      "                                         \n",
      "ReglessQubit(0x12adbee80)_: |0>──────────\n",
      "                                         \n",
      " ReglessClbit(0x12adbe278)_: 0 ══════════\n",
      "                                         \n",
      " ReglessClbit(0x12adbea58)_: 0 ══════════\n",
      "                                         \n",
      " ReglessClbit(0x10a02b5f8)_: 0 ══════════\n",
      "                                         \n"
     ]
    }
   ],
   "source": [
    "print(qc)"
   ]
  },
  {
   "cell_type": "code",
   "execution_count": 27,
   "metadata": {
    "ExecuteTime": {
     "end_time": "2020-02-11T16:09:43.352476Z",
     "start_time": "2020-02-11T16:09:43.348038Z"
    }
   },
   "outputs": [],
   "source": [
    "dag = qk.converters.circuit_to_dag(qc)"
   ]
  },
  {
   "cell_type": "code",
   "execution_count": 28,
   "metadata": {
    "ExecuteTime": {
     "end_time": "2020-02-11T16:09:43.656250Z",
     "start_time": "2020-02-11T16:09:43.356141Z"
    }
   },
   "outputs": [
    {
     "data": {
      "image/png": "[encoded data removed]",
      "text/plain": [
       "<PIL.PngImagePlugin.PngImageFile image mode=RGBA size=2586x403 at 0x12AEAA400>"
      ]
     },
     "execution_count": 28,
     "metadata": {},
     "output_type": "execute_result"
    }
   ],
   "source": [
    "dag.draw()"
   ]
  },
  {
   "cell_type": "code",
   "execution_count": 29,
   "metadata": {
    "ExecuteTime": {
     "end_time": "2020-02-11T16:09:43.664045Z",
     "start_time": "2020-02-11T16:09:43.658409Z"
    }
   },
   "outputs": [
    {
     "data": {
      "text/plain": [
       "[{'graph': <qiskit.dagcircuit.dagcircuit.DAGCircuit at 0x12af20a90>,\n",
       "  'partition': [[ReglessQubit(0x12adbe5f8)]]},\n",
       " {'graph': <qiskit.dagcircuit.dagcircuit.DAGCircuit at 0x12af20b70>,\n",
       "  'partition': [[ReglessQubit(0x12adbe5f8)]]}]"
      ]
     },
     "execution_count": 29,
     "metadata": {},
     "output_type": "execute_result"
    }
   ],
   "source": [
    "list(dag.layers())"
   ]
  },
  {
   "cell_type": "code",
   "execution_count": 30,
   "metadata": {
    "ExecuteTime": {
     "end_time": "2020-02-11T16:09:43.672918Z",
     "start_time": "2020-02-11T16:09:43.666064Z"
    }
   },
   "outputs": [
    {
     "data": {
      "text/plain": [
       "QuantumRegister(3, 'foo')"
      ]
     },
     "execution_count": 30,
     "metadata": {},
     "output_type": "execute_result"
    }
   ],
   "source": [
    "qc.mark_registers((0,2,4), 'foo')"
   ]
  },
  {
   "cell_type": "code",
   "execution_count": 31,
   "metadata": {
    "ExecuteTime": {
     "end_time": "2020-02-11T16:09:43.679547Z",
     "start_time": "2020-02-11T16:09:43.675156Z"
    },
    "scrolled": true
   },
   "outputs": [
    {
     "data": {
      "text/plain": [
       "{QuantumRegister(3, 'foo')}"
      ]
     },
     "execution_count": 31,
     "metadata": {},
     "output_type": "execute_result"
    }
   ],
   "source": [
    "qc.qregs"
   ]
  },
  {
   "cell_type": "code",
   "execution_count": 32,
   "metadata": {
    "ExecuteTime": {
     "end_time": "2020-02-11T16:09:43.686669Z",
     "start_time": "2020-02-11T16:09:43.681743Z"
    }
   },
   "outputs": [
    {
     "data": {
      "text/plain": [
       "[ReglessQubit(0x12adbe5f8),\n",
       " ReglessQubit(0x12adbe908),\n",
       " ReglessQubit(0x12adbee80)]"
      ]
     },
     "execution_count": 32,
     "metadata": {},
     "output_type": "execute_result"
    }
   ],
   "source": [
    "list(qc.qregs)[0][:]"
   ]
  },
  {
   "cell_type": "code",
   "execution_count": 33,
   "metadata": {
    "ExecuteTime": {
     "end_time": "2020-02-11T16:09:43.697609Z",
     "start_time": "2020-02-11T16:09:43.689514Z"
    }
   },
   "outputs": [
    {
     "data": {
      "text/plain": [
       "QuantumRegister(2, 'bar')"
      ]
     },
     "execution_count": 33,
     "metadata": {},
     "output_type": "execute_result"
    }
   ],
   "source": [
    "qc.mark_registers([qc.qubits[1], qc.qubits[3]], name='bar')"
   ]
  },
  {
   "cell_type": "code",
   "execution_count": 34,
   "metadata": {
    "ExecuteTime": {
     "end_time": "2020-02-11T16:09:43.705789Z",
     "start_time": "2020-02-11T16:09:43.700610Z"
    }
   },
   "outputs": [
    {
     "data": {
      "text/plain": [
       "{QuantumRegister(2, 'bar'), QuantumRegister(3, 'foo')}"
      ]
     },
     "execution_count": 34,
     "metadata": {},
     "output_type": "execute_result"
    }
   ],
   "source": [
    "qc.qregs"
   ]
  },
  {
   "cell_type": "code",
   "execution_count": 35,
   "metadata": {
    "ExecuteTime": {
     "end_time": "2020-02-11T16:09:43.718435Z",
     "start_time": "2020-02-11T16:09:43.708547Z"
    }
   },
   "outputs": [
    {
     "name": "stdout",
     "output_type": "stream",
     "text": [
      "                               ┌───┐\n",
      "ReglessQubit(0x129140b00)_: |0>┤ H ├\n",
      "                               ├───┤\n",
      "ReglessQubit(0x129140b38)_: |0>┤ H ├\n",
      "                               ├───┤\n",
      "ReglessQubit(0x129140b70)_: |0>┤ H ├\n",
      "                               ├───┤\n",
      "ReglessQubit(0x129140ba8)_: |0>┤ H ├\n",
      "                               ├───┤\n",
      "ReglessQubit(0x129140be0)_: |0>┤ H ├\n",
      "                               └───┘\n"
     ]
    }
   ],
   "source": [
    "h_broad = qk.QuantumCircuit(5)\n",
    "h_broad.h(h_broad.qubits)\n",
    "print(h_broad)"
   ]
  },
  {
   "cell_type": "code",
   "execution_count": 36,
   "metadata": {
    "ExecuteTime": {
     "end_time": "2020-02-11T16:09:43.732085Z",
     "start_time": "2020-02-11T16:09:43.721753Z"
    }
   },
   "outputs": [
    {
     "name": "stdout",
     "output_type": "stream",
     "text": [
      "                                                   \n",
      "ReglessQubit(0x129145390)_: |0>──■─────────────────\n",
      "                               ┌─┴─┐               \n",
      "ReglessQubit(0x1291453c8)_: |0>┤ X ├──■────────────\n",
      "                               └───┘┌─┴─┐          \n",
      "ReglessQubit(0x129145400)_: |0>─────┤ X ├──■───────\n",
      "                                    └───┘┌─┴─┐     \n",
      "ReglessQubit(0x129145438)_: |0>──────────┤ X ├──■──\n",
      "                                         └───┘┌─┴─┐\n",
      "ReglessQubit(0x129145470)_: |0>───────────────┤ X ├\n",
      "                                              └───┘\n"
     ]
    }
   ],
   "source": [
    "cx_tile = qk.QuantumCircuit(5)\n",
    "for i in range(4):\n",
    "    cx_tile.cx(i, i+1)\n",
    "print(cx_tile)"
   ]
  },
  {
   "cell_type": "code",
   "execution_count": 37,
   "metadata": {
    "ExecuteTime": {
     "end_time": "2020-02-11T16:09:44.280574Z",
     "start_time": "2020-02-11T16:09:43.734487Z"
    }
   },
   "outputs": [
    {
     "data": {
      "text/plain": [
       "<qiskit.circuit.instructionset.InstructionSet at 0x12c05be48>"
      ]
     },
     "execution_count": 37,
     "metadata": {},
     "output_type": "execute_result"
    }
   ],
   "source": [
    "th = qk.circuit.Parameter('theta')\n",
    "qc = qk.QuantumCircuit(5,1)\n",
    "qc.append(h_broad, range(5))"
   ]
  },
  {
   "cell_type": "code",
   "execution_count": 38,
   "metadata": {
    "ExecuteTime": {
     "end_time": "2020-02-11T16:09:44.287834Z",
     "start_time": "2020-02-11T16:09:44.282448Z"
    }
   },
   "outputs": [
    {
     "name": "stdout",
     "output_type": "stream",
     "text": [
      "                               ┌───────────┐\n",
      "ReglessQubit(0x129145c88)_: |0>┤0          ├\n",
      "                               │           │\n",
      "ReglessQubit(0x129145cc0)_: |0>┤1          ├\n",
      "                               │           │\n",
      "ReglessQubit(0x129145ba8)_: |0>┤2 Circuit2 ├\n",
      "                               │           │\n",
      "ReglessQubit(0x129145b38)_: |0>┤3          ├\n",
      "                               │           │\n",
      "ReglessQubit(0x12c123a20)_: |0>┤4          ├\n",
      "                               └───────────┘\n",
      " ReglessClbit(0x12bbfc198)_: 0 ═════════════\n",
      "                                            \n"
     ]
    }
   ],
   "source": [
    "print(qc)"
   ]
  },
  {
   "cell_type": "code",
   "execution_count": 39,
   "metadata": {
    "ExecuteTime": {
     "end_time": "2020-02-11T16:09:44.295841Z",
     "start_time": "2020-02-11T16:09:44.289876Z"
    }
   },
   "outputs": [
    {
     "data": {
      "text/plain": [
       "ReglessQubit(0x129140b00)"
      ]
     },
     "execution_count": 39,
     "metadata": {},
     "output_type": "execute_result"
    }
   ],
   "source": [
    "h_broad.data[0][1][0]"
   ]
  },
  {
   "cell_type": "code",
   "execution_count": null,
   "metadata": {},
   "outputs": [],
   "source": []
  }
 ],
 "metadata": {
  "kernelspec": {
   "display_name": "qiskit-terra",
   "language": "python",
   "name": "qiskit-terra"
  },
  "language_info": {
   "codemirror_mode": {
    "name": "ipython",
    "version": 3
   },
   "file_extension": ".py",
   "mimetype": "text/x-python",
   "name": "python",
   "nbconvert_exporter": "python",
   "pygments_lexer": "ipython3",
   "version": "3.5.6"
  }
 },
 "nbformat": 4,
 "nbformat_minor": 2
}
