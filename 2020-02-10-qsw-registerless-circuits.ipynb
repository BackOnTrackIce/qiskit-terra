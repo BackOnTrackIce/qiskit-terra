{
 "cells": [
  {
   "cell_type": "code",
   "execution_count": 1,
   "metadata": {
    "ExecuteTime": {
     "end_time": "2020-02-11T16:37:22.927315Z",
     "start_time": "2020-02-11T16:37:21.158163Z"
    }
   },
   "outputs": [
    {
     "name": "stderr",
     "output_type": "stream",
     "text": [
      "/Users/kevin.krsulichibm.com/q/qiskit-terra/qiskit/__init__.py:78: DeprecationWarning: Using Qiskit with Python 3.5 is deprecated as of the 0.12.0 release. Support for running Qiskit with Python 3.5 will be removed at the Python 3.5 EoL on 09/13/2020.\n",
      "  \"Python 3.5 EoL on 09/13/2020.\", DeprecationWarning)\n"
     ]
    }
   ],
   "source": [
    "import qiskit as qk"
   ]
  },
  {
   "cell_type": "code",
   "execution_count": 2,
   "metadata": {
    "ExecuteTime": {
     "end_time": "2020-02-11T16:37:22.933187Z",
     "start_time": "2020-02-11T16:37:22.930273Z"
    }
   },
   "outputs": [],
   "source": [
    "from qiskit.circuit import ReglessQubit, ReglessClbit"
   ]
  },
  {
   "cell_type": "code",
   "execution_count": 3,
   "metadata": {
    "ExecuteTime": {
     "end_time": "2020-02-11T16:37:22.941398Z",
     "start_time": "2020-02-11T16:37:22.935488Z"
    }
   },
   "outputs": [],
   "source": [
    "qargs = [ReglessQubit() for _ in range(5)]\n",
    "cargs = [ReglessClbit() for _ in range(1)]"
   ]
  },
  {
   "cell_type": "code",
   "execution_count": 4,
   "metadata": {
    "ExecuteTime": {
     "end_time": "2020-02-11T16:37:22.950834Z",
     "start_time": "2020-02-11T16:37:22.944608Z"
    }
   },
   "outputs": [
    {
     "data": {
      "text/plain": [
       "[ReglessQubit(0x1302d94e0),\n",
       " ReglessQubit(0x1302d9160),\n",
       " ReglessQubit(0x1302d9710),\n",
       " ReglessQubit(0x1302d9550),\n",
       " ReglessQubit(0x1302d9828)]"
      ]
     },
     "execution_count": 4,
     "metadata": {},
     "output_type": "execute_result"
    }
   ],
   "source": [
    "qargs"
   ]
  },
  {
   "cell_type": "code",
   "execution_count": 5,
   "metadata": {
    "ExecuteTime": {
     "end_time": "2020-02-11T16:37:22.960551Z",
     "start_time": "2020-02-11T16:37:22.955182Z"
    }
   },
   "outputs": [
    {
     "data": {
      "text/plain": [
       "[ReglessClbit(0x1302d9320)]"
      ]
     },
     "execution_count": 5,
     "metadata": {},
     "output_type": "execute_result"
    }
   ],
   "source": [
    "cargs"
   ]
  },
  {
   "cell_type": "code",
   "execution_count": 6,
   "metadata": {
    "ExecuteTime": {
     "end_time": "2020-02-11T16:37:22.967187Z",
     "start_time": "2020-02-11T16:37:22.963071Z"
    }
   },
   "outputs": [],
   "source": [
    "from qiskit.circuit import QuantumRegister, ClassicalRegister"
   ]
  },
  {
   "cell_type": "code",
   "execution_count": 7,
   "metadata": {
    "ExecuteTime": {
     "end_time": "2020-02-11T16:37:22.974537Z",
     "start_time": "2020-02-11T16:37:22.970893Z"
    }
   },
   "outputs": [],
   "source": [
    "qr = QuantumRegister(bits=qargs)\n",
    "cr = ClassicalRegister(bits=cargs)"
   ]
  },
  {
   "cell_type": "code",
   "execution_count": 8,
   "metadata": {
    "ExecuteTime": {
     "end_time": "2020-02-11T16:37:22.982898Z",
     "start_time": "2020-02-11T16:37:22.977538Z"
    }
   },
   "outputs": [
    {
     "data": {
      "text/plain": [
       "QuantumRegister(5, 'q0')"
      ]
     },
     "execution_count": 8,
     "metadata": {},
     "output_type": "execute_result"
    }
   ],
   "source": [
    "qr"
   ]
  },
  {
   "cell_type": "code",
   "execution_count": 9,
   "metadata": {
    "ExecuteTime": {
     "end_time": "2020-02-11T16:37:22.991655Z",
     "start_time": "2020-02-11T16:37:22.986347Z"
    }
   },
   "outputs": [
    {
     "data": {
      "text/plain": [
       "ClassicalRegister(1, 'c0')"
      ]
     },
     "execution_count": 9,
     "metadata": {},
     "output_type": "execute_result"
    }
   ],
   "source": [
    "cr"
   ]
  },
  {
   "cell_type": "code",
   "execution_count": 10,
   "metadata": {
    "ExecuteTime": {
     "end_time": "2020-02-11T16:37:23.003697Z",
     "start_time": "2020-02-11T16:37:22.994460Z"
    }
   },
   "outputs": [
    {
     "data": {
      "text/plain": [
       "ReglessQubit(0x1302d94e0)"
      ]
     },
     "execution_count": 10,
     "metadata": {},
     "output_type": "execute_result"
    }
   ],
   "source": [
    "qr[0]"
   ]
  },
  {
   "cell_type": "code",
   "execution_count": 11,
   "metadata": {
    "ExecuteTime": {
     "end_time": "2020-02-11T16:37:23.011804Z",
     "start_time": "2020-02-11T16:37:23.006422Z"
    }
   },
   "outputs": [
    {
     "data": {
      "text/plain": [
       "ReglessClbit(0x1302d9320)"
      ]
     },
     "execution_count": 11,
     "metadata": {},
     "output_type": "execute_result"
    }
   ],
   "source": [
    "cr[0]"
   ]
  },
  {
   "cell_type": "code",
   "execution_count": 12,
   "metadata": {
    "ExecuteTime": {
     "end_time": "2020-02-11T16:37:23.018455Z",
     "start_time": "2020-02-11T16:37:23.014185Z"
    }
   },
   "outputs": [],
   "source": [
    "qc = qk.QuantumCircuit(qr, cr)"
   ]
  },
  {
   "cell_type": "code",
   "execution_count": 13,
   "metadata": {
    "ExecuteTime": {
     "end_time": "2020-02-11T16:37:23.028416Z",
     "start_time": "2020-02-11T16:37:23.021877Z"
    }
   },
   "outputs": [
    {
     "data": {
      "text/plain": [
       "[ReglessQubit(0x1302d94e0),\n",
       " ReglessQubit(0x1302d9160),\n",
       " ReglessQubit(0x1302d9710),\n",
       " ReglessQubit(0x1302d9550),\n",
       " ReglessQubit(0x1302d9828)]"
      ]
     },
     "execution_count": 13,
     "metadata": {},
     "output_type": "execute_result"
    }
   ],
   "source": [
    "qc.qubits"
   ]
  },
  {
   "cell_type": "code",
   "execution_count": 14,
   "metadata": {
    "ExecuteTime": {
     "end_time": "2020-02-11T16:37:23.037560Z",
     "start_time": "2020-02-11T16:37:23.031723Z"
    }
   },
   "outputs": [
    {
     "data": {
      "text/plain": [
       "[ReglessClbit(0x1302d9320)]"
      ]
     },
     "execution_count": 14,
     "metadata": {},
     "output_type": "execute_result"
    }
   ],
   "source": [
    "qc.clbits"
   ]
  },
  {
   "cell_type": "code",
   "execution_count": 15,
   "metadata": {
    "ExecuteTime": {
     "end_time": "2020-02-11T16:37:23.045842Z",
     "start_time": "2020-02-11T16:37:23.040183Z"
    }
   },
   "outputs": [
    {
     "data": {
      "text/plain": [
       "{QuantumRegister(5, 'q0')}"
      ]
     },
     "execution_count": 15,
     "metadata": {},
     "output_type": "execute_result"
    }
   ],
   "source": [
    "qc.qregs"
   ]
  },
  {
   "cell_type": "code",
   "execution_count": 16,
   "metadata": {
    "ExecuteTime": {
     "end_time": "2020-02-11T16:37:23.055659Z",
     "start_time": "2020-02-11T16:37:23.049510Z"
    }
   },
   "outputs": [
    {
     "data": {
      "text/plain": [
       "{ClassicalRegister(1, 'c0')}"
      ]
     },
     "execution_count": 16,
     "metadata": {},
     "output_type": "execute_result"
    }
   ],
   "source": [
    "qc.cregs"
   ]
  },
  {
   "cell_type": "code",
   "execution_count": 17,
   "metadata": {
    "ExecuteTime": {
     "end_time": "2020-02-11T16:37:23.067396Z",
     "start_time": "2020-02-11T16:37:23.060003Z"
    }
   },
   "outputs": [
    {
     "data": {
      "text/plain": [
       "<qiskit.circuit.instructionset.InstructionSet at 0x1302e22e8>"
      ]
     },
     "execution_count": 17,
     "metadata": {},
     "output_type": "execute_result"
    }
   ],
   "source": [
    "qc.h(qr[0])"
   ]
  },
  {
   "cell_type": "code",
   "execution_count": 18,
   "metadata": {
    "ExecuteTime": {
     "end_time": "2020-02-11T16:37:23.084420Z",
     "start_time": "2020-02-11T16:37:23.077701Z"
    }
   },
   "outputs": [
    {
     "data": {
      "text/plain": [
       "<qiskit.circuit.instructionset.InstructionSet at 0x1302d9748>"
      ]
     },
     "execution_count": 18,
     "metadata": {},
     "output_type": "execute_result"
    }
   ],
   "source": [
    "qc.h(0)"
   ]
  },
  {
   "cell_type": "code",
   "execution_count": 19,
   "metadata": {
    "ExecuteTime": {
     "end_time": "2020-02-11T16:37:23.096258Z",
     "start_time": "2020-02-11T16:37:23.090784Z"
    }
   },
   "outputs": [],
   "source": [
    "qc = qk.QuantumCircuit(5,3)"
   ]
  },
  {
   "cell_type": "code",
   "execution_count": 20,
   "metadata": {
    "ExecuteTime": {
     "end_time": "2020-02-11T16:37:23.106383Z",
     "start_time": "2020-02-11T16:37:23.100026Z"
    }
   },
   "outputs": [
    {
     "data": {
      "text/plain": [
       "[ReglessQubit(0x1302d9a20),\n",
       " ReglessQubit(0x1302d9898),\n",
       " ReglessQubit(0x1302d99b0),\n",
       " ReglessQubit(0x1302d9630),\n",
       " ReglessQubit(0x1302d9ef0)]"
      ]
     },
     "execution_count": 20,
     "metadata": {},
     "output_type": "execute_result"
    }
   ],
   "source": [
    "qc.qubits"
   ]
  },
  {
   "cell_type": "code",
   "execution_count": 21,
   "metadata": {
    "ExecuteTime": {
     "end_time": "2020-02-11T16:37:23.114691Z",
     "start_time": "2020-02-11T16:37:23.108905Z"
    }
   },
   "outputs": [
    {
     "data": {
      "text/plain": [
       "[ReglessClbit(0x1302d9fd0),\n",
       " ReglessClbit(0x1302d95c0),\n",
       " ReglessClbit(0x1302d9470)]"
      ]
     },
     "execution_count": 21,
     "metadata": {},
     "output_type": "execute_result"
    }
   ],
   "source": [
    "qc.clbits"
   ]
  },
  {
   "cell_type": "code",
   "execution_count": 22,
   "metadata": {
    "ExecuteTime": {
     "end_time": "2020-02-11T16:37:23.124516Z",
     "start_time": "2020-02-11T16:37:23.117043Z"
    }
   },
   "outputs": [
    {
     "data": {
      "text/plain": [
       "set()"
      ]
     },
     "execution_count": 22,
     "metadata": {},
     "output_type": "execute_result"
    }
   ],
   "source": [
    "qc.qregs"
   ]
  },
  {
   "cell_type": "code",
   "execution_count": 23,
   "metadata": {
    "ExecuteTime": {
     "end_time": "2020-02-11T16:37:23.135022Z",
     "start_time": "2020-02-11T16:37:23.127954Z"
    }
   },
   "outputs": [
    {
     "data": {
      "text/plain": [
       "set()"
      ]
     },
     "execution_count": 23,
     "metadata": {},
     "output_type": "execute_result"
    }
   ],
   "source": [
    "qc.cregs"
   ]
  },
  {
   "cell_type": "code",
   "execution_count": 24,
   "metadata": {
    "ExecuteTime": {
     "end_time": "2020-02-11T16:37:23.144396Z",
     "start_time": "2020-02-11T16:37:23.138033Z"
    }
   },
   "outputs": [
    {
     "data": {
      "text/plain": [
       "<qiskit.circuit.instructionset.InstructionSet at 0x130307f60>"
      ]
     },
     "execution_count": 24,
     "metadata": {},
     "output_type": "execute_result"
    }
   ],
   "source": [
    "qc.h(0)"
   ]
  },
  {
   "cell_type": "code",
   "execution_count": 25,
   "metadata": {
    "ExecuteTime": {
     "end_time": "2020-02-11T16:37:23.154672Z",
     "start_time": "2020-02-11T16:37:23.147696Z"
    }
   },
   "outputs": [
    {
     "data": {
      "text/plain": [
       "<qiskit.circuit.instructionset.InstructionSet at 0x1302e2400>"
      ]
     },
     "execution_count": 25,
     "metadata": {},
     "output_type": "execute_result"
    }
   ],
   "source": [
    "qc.h(qc.qubits[0])"
   ]
  },
  {
   "cell_type": "code",
   "execution_count": 26,
   "metadata": {
    "ExecuteTime": {
     "end_time": "2020-02-11T16:37:23.165798Z",
     "start_time": "2020-02-11T16:37:23.157531Z"
    }
   },
   "outputs": [
    {
     "name": "stdout",
     "output_type": "stream",
     "text": [
      "                               ┌───┐┌───┐\n",
      "ReglessQubit(0x1302d9a20)_: |0>┤ H ├┤ H ├\n",
      "                               └───┘└───┘\n",
      "ReglessQubit(0x1302d9898)_: |0>──────────\n",
      "                                         \n",
      "ReglessQubit(0x1302d99b0)_: |0>──────────\n",
      "                                         \n",
      "ReglessQubit(0x1302d9630)_: |0>──────────\n",
      "                                         \n",
      "ReglessQubit(0x1302d9ef0)_: |0>──────────\n",
      "                                         \n",
      " ReglessClbit(0x1302d9fd0)_: 0 ══════════\n",
      "                                         \n",
      " ReglessClbit(0x1302d95c0)_: 0 ══════════\n",
      "                                         \n",
      " ReglessClbit(0x1302d9470)_: 0 ══════════\n",
      "                                         \n"
     ]
    }
   ],
   "source": [
    "print(qc)"
   ]
  },
  {
   "cell_type": "code",
   "execution_count": 27,
   "metadata": {
    "ExecuteTime": {
     "end_time": "2020-02-11T16:37:23.174238Z",
     "start_time": "2020-02-11T16:37:23.169476Z"
    }
   },
   "outputs": [],
   "source": [
    "dag = qk.converters.circuit_to_dag(qc)"
   ]
  },
  {
   "cell_type": "code",
   "execution_count": 28,
   "metadata": {
    "ExecuteTime": {
     "end_time": "2020-02-11T16:37:23.483900Z",
     "start_time": "2020-02-11T16:37:23.177761Z"
    }
   },
   "outputs": [
    {
     "data": {
      "image/png": "[encoded data removed]",
      "text/plain": [
       "<PIL.PngImagePlugin.PngImageFile image mode=RGBA size=2608x403 at 0x1303E58D0>"
      ]
     },
     "execution_count": 28,
     "metadata": {},
     "output_type": "execute_result"
    }
   ],
   "source": [
    "dag.draw()"
   ]
  },
  {
   "cell_type": "code",
   "execution_count": 29,
   "metadata": {
    "ExecuteTime": {
     "end_time": "2020-02-11T16:37:23.492652Z",
     "start_time": "2020-02-11T16:37:23.486107Z"
    }
   },
   "outputs": [
    {
     "data": {
      "text/plain": [
       "[{'graph': <qiskit.dagcircuit.dagcircuit.DAGCircuit at 0x130454550>,\n",
       "  'partition': [[ReglessQubit(0x1302d9a20)]]},\n",
       " {'graph': <qiskit.dagcircuit.dagcircuit.DAGCircuit at 0x130454630>,\n",
       "  'partition': [[ReglessQubit(0x1302d9a20)]]}]"
      ]
     },
     "execution_count": 29,
     "metadata": {},
     "output_type": "execute_result"
    }
   ],
   "source": [
    "list(dag.layers())"
   ]
  },
  {
   "cell_type": "code",
   "execution_count": 30,
   "metadata": {
    "ExecuteTime": {
     "end_time": "2020-02-11T16:37:23.500750Z",
     "start_time": "2020-02-11T16:37:23.494537Z"
    }
   },
   "outputs": [
    {
     "data": {
      "text/plain": [
       "QuantumRegister(3, 'foo')"
      ]
     },
     "execution_count": 30,
     "metadata": {},
     "output_type": "execute_result"
    }
   ],
   "source": [
    "qc.mark_registers((0,2,4), 'foo')"
   ]
  },
  {
   "cell_type": "code",
   "execution_count": 31,
   "metadata": {
    "ExecuteTime": {
     "end_time": "2020-02-11T16:37:23.508244Z",
     "start_time": "2020-02-11T16:37:23.503449Z"
    },
    "scrolled": true
   },
   "outputs": [
    {
     "data": {
      "text/plain": [
       "{QuantumRegister(3, 'foo')}"
      ]
     },
     "execution_count": 31,
     "metadata": {},
     "output_type": "execute_result"
    }
   ],
   "source": [
    "qc.qregs"
   ]
  },
  {
   "cell_type": "code",
   "execution_count": 32,
   "metadata": {
    "ExecuteTime": {
     "end_time": "2020-02-11T16:37:23.515065Z",
     "start_time": "2020-02-11T16:37:23.510059Z"
    }
   },
   "outputs": [
    {
     "data": {
      "text/plain": [
       "[ReglessQubit(0x1302d9a20),\n",
       " ReglessQubit(0x1302d99b0),\n",
       " ReglessQubit(0x1302d9ef0)]"
      ]
     },
     "execution_count": 32,
     "metadata": {},
     "output_type": "execute_result"
    }
   ],
   "source": [
    "list(qc.qregs)[0][:]"
   ]
  },
  {
   "cell_type": "code",
   "execution_count": 33,
   "metadata": {
    "ExecuteTime": {
     "end_time": "2020-02-11T16:37:23.525783Z",
     "start_time": "2020-02-11T16:37:23.518228Z"
    }
   },
   "outputs": [
    {
     "data": {
      "text/plain": [
       "QuantumRegister(2, 'bar')"
      ]
     },
     "execution_count": 33,
     "metadata": {},
     "output_type": "execute_result"
    }
   ],
   "source": [
    "qc.mark_registers([qc.qubits[1], qc.qubits[3]], name='bar')"
   ]
  },
  {
   "cell_type": "code",
   "execution_count": 34,
   "metadata": {
    "ExecuteTime": {
     "end_time": "2020-02-11T16:37:23.535031Z",
     "start_time": "2020-02-11T16:37:23.529541Z"
    }
   },
   "outputs": [
    {
     "data": {
      "text/plain": [
       "{QuantumRegister(2, 'bar'), QuantumRegister(3, 'foo')}"
      ]
     },
     "execution_count": 34,
     "metadata": {},
     "output_type": "execute_result"
    }
   ],
   "source": [
    "qc.qregs"
   ]
  },
  {
   "cell_type": "code",
   "execution_count": 43,
   "metadata": {
    "ExecuteTime": {
     "end_time": "2020-02-11T16:38:03.124268Z",
     "start_time": "2020-02-11T16:38:03.118038Z"
    }
   },
   "outputs": [
    {
     "name": "stdout",
     "output_type": "stream",
     "text": [
      "                               ┌───┐\n",
      "ReglessQubit(0x13045bc50)_: |0>┤ H ├\n",
      "                               └───┘\n",
      "ReglessQubit(0x13045b9b0)_: |0>─────\n",
      "                                    \n",
      "ReglessQubit(0x13045bb00)_: |0>─────\n",
      "                                    \n",
      "ReglessQubit(0x13045b898)_: |0>─────\n",
      "                                    \n",
      "ReglessQubit(0x13045b940)_: |0>─────\n",
      "                                    \n"
     ]
    }
   ],
   "source": [
    "h_broad = qk.QuantumCircuit(5)\n",
    "h_broad.h(h_broad.qubits[0])\n",
    "print(h_broad)"
   ]
  },
  {
   "cell_type": "code",
   "execution_count": 44,
   "metadata": {
    "ExecuteTime": {
     "end_time": "2020-02-11T16:38:08.100516Z",
     "start_time": "2020-02-11T16:38:08.091184Z"
    }
   },
   "outputs": [
    {
     "name": "stdout",
     "output_type": "stream",
     "text": [
      "                                                   \n",
      "ReglessQubit(0x13045b5f8)_: |0>──■─────────────────\n",
      "                               ┌─┴─┐               \n",
      "ReglessQubit(0x13045b6d8)_: |0>┤ X ├──■────────────\n",
      "                               └───┘┌─┴─┐          \n",
      "ReglessQubit(0x13045b9e8)_: |0>─────┤ X ├──■───────\n",
      "                                    └───┘┌─┴─┐     \n",
      "ReglessQubit(0x13045bbe0)_: |0>──────────┤ X ├──■──\n",
      "                                         └───┘┌─┴─┐\n",
      "ReglessQubit(0x13045b828)_: |0>───────────────┤ X ├\n",
      "                                              └───┘\n"
     ]
    }
   ],
   "source": [
    "cx_tile = qk.QuantumCircuit(5)\n",
    "for i in range(4):\n",
    "    cx_tile.cx(i, i+1)\n",
    "print(cx_tile)"
   ]
  },
  {
   "cell_type": "code",
   "execution_count": 45,
   "metadata": {
    "ExecuteTime": {
     "end_time": "2020-02-11T16:38:09.052072Z",
     "start_time": "2020-02-11T16:38:09.045630Z"
    }
   },
   "outputs": [
    {
     "data": {
      "text/plain": [
       "<qiskit.circuit.instructionset.InstructionSet at 0x13045bc18>"
      ]
     },
     "execution_count": 45,
     "metadata": {},
     "output_type": "execute_result"
    }
   ],
   "source": [
    "th = qk.circuit.Parameter('theta')\n",
    "qc = qk.QuantumCircuit(5,1)\n",
    "qc.append(h_broad, range(5))"
   ]
  },
  {
   "cell_type": "code",
   "execution_count": 46,
   "metadata": {
    "ExecuteTime": {
     "end_time": "2020-02-11T16:38:09.719516Z",
     "start_time": "2020-02-11T16:38:09.713307Z"
    }
   },
   "outputs": [
    {
     "name": "stdout",
     "output_type": "stream",
     "text": [
      "                               ┌───────────┐\n",
      "ReglessQubit(0x11aa2eb38)_: |0>┤0          ├\n",
      "                               │           │\n",
      "ReglessQubit(0x11aa2eac8)_: |0>┤1          ├\n",
      "                               │           │\n",
      "ReglessQubit(0x131775240)_: |0>┤2 Circuit5 ├\n",
      "                               │           │\n",
      "ReglessQubit(0x1317754a8)_: |0>┤3          ├\n",
      "                               │           │\n",
      "ReglessQubit(0x13045bda0)_: |0>┤4          ├\n",
      "                               └───────────┘\n",
      " ReglessClbit(0x13045b0b8)_: 0 ═════════════\n",
      "                                            \n"
     ]
    }
   ],
   "source": [
    "print(qc)"
   ]
  },
  {
   "cell_type": "code",
   "execution_count": 47,
   "metadata": {
    "ExecuteTime": {
     "end_time": "2020-02-11T16:38:10.299817Z",
     "start_time": "2020-02-11T16:38:10.293969Z"
    }
   },
   "outputs": [
    {
     "data": {
      "text/plain": [
       "<qiskit.circuit.instructionset.InstructionSet at 0x1314e2048>"
      ]
     },
     "execution_count": 47,
     "metadata": {},
     "output_type": "execute_result"
    }
   ],
   "source": [
    "qc.append(cx_tile, [0,1,2,3,4])"
   ]
  },
  {
   "cell_type": "code",
   "execution_count": 48,
   "metadata": {
    "ExecuteTime": {
     "end_time": "2020-02-11T16:38:10.942275Z",
     "start_time": "2020-02-11T16:38:10.937290Z"
    }
   },
   "outputs": [
    {
     "data": {
      "text/plain": [
       "<qiskit.circuit.instructionset.InstructionSet at 0x13045b1d0>"
      ]
     },
     "execution_count": 48,
     "metadata": {},
     "output_type": "execute_result"
    }
   ],
   "source": [
    "qc.rz(th, qc.qubits)"
   ]
  },
  {
   "cell_type": "code",
   "execution_count": 49,
   "metadata": {
    "ExecuteTime": {
     "end_time": "2020-02-11T16:38:11.299242Z",
     "start_time": "2020-02-11T16:38:11.292827Z"
    }
   },
   "outputs": [
    {
     "data": {
      "text/plain": [
       "<qiskit.circuit.instructionset.InstructionSet at 0x1302e20b8>"
      ]
     },
     "execution_count": 49,
     "metadata": {},
     "output_type": "execute_result"
    }
   ],
   "source": [
    "qc.append(cx_tile.mirror(), [0,1,2,3,4])"
   ]
  },
  {
   "cell_type": "code",
   "execution_count": 50,
   "metadata": {
    "ExecuteTime": {
     "end_time": "2020-02-11T16:38:11.783331Z",
     "start_time": "2020-02-11T16:38:11.771439Z"
    }
   },
   "outputs": [
    {
     "name": "stdout",
     "output_type": "stream",
     "text": [
      "                               ┌───────────┐┌───────────┐┌───────────┐»\n",
      "ReglessQubit(0x11aa2eb38)_: |0>┤0          ├┤0          ├┤ Rz(theta) ├»\n",
      "                               │           ││           │├───────────┤»\n",
      "ReglessQubit(0x11aa2eac8)_: |0>┤1          ├┤1          ├┤ Rz(theta) ├»\n",
      "                               │           ││           │├───────────┤»\n",
      "ReglessQubit(0x131775240)_: |0>┤2 Circuit5 ├┤2 Circuit6 ├┤ Rz(theta) ├»\n",
      "                               │           ││           │├───────────┤»\n",
      "ReglessQubit(0x1317754a8)_: |0>┤3          ├┤3          ├┤ Rz(theta) ├»\n",
      "                               │           ││           │├───────────┤»\n",
      "ReglessQubit(0x13045bda0)_: |0>┤4          ├┤4          ├┤ Rz(theta) ├»\n",
      "                               └───────────┘└───────────┘└───────────┘»\n",
      " ReglessClbit(0x13045b0b8)_: 0 ═══════════════════════════════════════»\n",
      "                                                                      »\n",
      "«                            ┌──────────────────┐\n",
      "«ReglessQubit(0x11aa2eb38)_: ┤0                 ├\n",
      "«                            │                  │\n",
      "«ReglessQubit(0x11aa2eac8)_: ┤1                 ├\n",
      "«                            │                  │\n",
      "«ReglessQubit(0x131775240)_: ┤2 Circuit6_mirror ├\n",
      "«                            │                  │\n",
      "«ReglessQubit(0x1317754a8)_: ┤3                 ├\n",
      "«                            │                  │\n",
      "«ReglessQubit(0x13045bda0)_: ┤4                 ├\n",
      "«                            └──────────────────┘\n",
      "«ReglessClbit(0x13045b0b8)_: ════════════════════\n",
      "«                                                \n"
     ]
    }
   ],
   "source": [
    "print(qc)"
   ]
  },
  {
   "cell_type": "code",
   "execution_count": 51,
   "metadata": {
    "ExecuteTime": {
     "end_time": "2020-02-11T16:38:18.895145Z",
     "start_time": "2020-02-11T16:38:18.593674Z"
    }
   },
   "outputs": [
    {
     "ename": "AttributeError",
     "evalue": "'ReglessQubit' object has no attribute 'register'",
     "output_type": "error",
     "traceback": [
      "\u001b[0;31m---------------------------------------------------------------------------\u001b[0m",
      "\u001b[0;31mAttributeError\u001b[0m                            Traceback (most recent call last)",
      "\u001b[0;32m<ipython-input-51-f406608c368f>\u001b[0m in \u001b[0;36m<module>\u001b[0;34m\u001b[0m\n\u001b[0;32m----> 1\u001b[0;31m \u001b[0mprint\u001b[0m\u001b[0;34m(\u001b[0m\u001b[0mqc\u001b[0m\u001b[0;34m.\u001b[0m\u001b[0mdecompose\u001b[0m\u001b[0;34m(\u001b[0m\u001b[0;34m)\u001b[0m\u001b[0;34m)\u001b[0m\u001b[0;34m\u001b[0m\u001b[0m\n\u001b[0m",
      "\u001b[0;32m~/q/qiskit-terra/qiskit/circuit/quantumcircuit.py\u001b[0m in \u001b[0;36mdecompose\u001b[0;34m(self)\u001b[0m\n\u001b[1;32m    653\u001b[0m         \u001b[0;32mfrom\u001b[0m \u001b[0mqiskit\u001b[0m\u001b[0;34m.\u001b[0m\u001b[0mconverters\u001b[0m\u001b[0;34m.\u001b[0m\u001b[0mdag_to_circuit\u001b[0m \u001b[0;32mimport\u001b[0m \u001b[0mdag_to_circuit\u001b[0m\u001b[0;34m\u001b[0m\u001b[0m\n\u001b[1;32m    654\u001b[0m         \u001b[0mpass_\u001b[0m \u001b[0;34m=\u001b[0m \u001b[0mDecompose\u001b[0m\u001b[0;34m(\u001b[0m\u001b[0;34m)\u001b[0m\u001b[0;34m\u001b[0m\u001b[0m\n\u001b[0;32m--> 655\u001b[0;31m         \u001b[0mdecomposed_dag\u001b[0m \u001b[0;34m=\u001b[0m \u001b[0mpass_\u001b[0m\u001b[0;34m.\u001b[0m\u001b[0mrun\u001b[0m\u001b[0;34m(\u001b[0m\u001b[0mcircuit_to_dag\u001b[0m\u001b[0;34m(\u001b[0m\u001b[0mself\u001b[0m\u001b[0;34m)\u001b[0m\u001b[0;34m)\u001b[0m\u001b[0;34m\u001b[0m\u001b[0m\n\u001b[0m\u001b[1;32m    656\u001b[0m         \u001b[0;32mreturn\u001b[0m \u001b[0mdag_to_circuit\u001b[0m\u001b[0;34m(\u001b[0m\u001b[0mdecomposed_dag\u001b[0m\u001b[0;34m)\u001b[0m\u001b[0;34m\u001b[0m\u001b[0m\n\u001b[1;32m    657\u001b[0m \u001b[0;34m\u001b[0m\u001b[0m\n",
      "\u001b[0;32m~/q/qiskit-terra/qiskit/transpiler/passes/basis/decompose.py\u001b[0m in \u001b[0;36mrun\u001b[0;34m(self, dag)\u001b[0m\n\u001b[1;32m     54\u001b[0m                 \u001b[0;31m# TODO: need anonymous rules to address wires by index\u001b[0m\u001b[0;34m\u001b[0m\u001b[0;34m\u001b[0m\u001b[0m\n\u001b[1;32m     55\u001b[0m                 \u001b[0mdecomposition\u001b[0m \u001b[0;34m=\u001b[0m \u001b[0mDAGCircuit\u001b[0m\u001b[0;34m(\u001b[0m\u001b[0;34m)\u001b[0m\u001b[0;34m\u001b[0m\u001b[0m\n\u001b[0;32m---> 56\u001b[0;31m                 \u001b[0mqregs\u001b[0m \u001b[0;34m=\u001b[0m \u001b[0;34m{\u001b[0m\u001b[0mqb\u001b[0m\u001b[0;34m.\u001b[0m\u001b[0mregister\u001b[0m \u001b[0;32mfor\u001b[0m \u001b[0minst\u001b[0m \u001b[0;32min\u001b[0m \u001b[0mrule\u001b[0m \u001b[0;32mfor\u001b[0m \u001b[0mqb\u001b[0m \u001b[0;32min\u001b[0m \u001b[0minst\u001b[0m\u001b[0;34m[\u001b[0m\u001b[0;36m1\u001b[0m\u001b[0;34m]\u001b[0m\u001b[0;34m}\u001b[0m\u001b[0;34m\u001b[0m\u001b[0m\n\u001b[0m\u001b[1;32m     57\u001b[0m                 \u001b[0mcregs\u001b[0m \u001b[0;34m=\u001b[0m \u001b[0;34m{\u001b[0m\u001b[0mcb\u001b[0m\u001b[0;34m.\u001b[0m\u001b[0mregister\u001b[0m \u001b[0;32mfor\u001b[0m \u001b[0minst\u001b[0m \u001b[0;32min\u001b[0m \u001b[0mrule\u001b[0m \u001b[0;32mfor\u001b[0m \u001b[0mcb\u001b[0m \u001b[0;32min\u001b[0m \u001b[0minst\u001b[0m\u001b[0;34m[\u001b[0m\u001b[0;36m2\u001b[0m\u001b[0;34m]\u001b[0m\u001b[0;34m}\u001b[0m\u001b[0;34m\u001b[0m\u001b[0m\n\u001b[1;32m     58\u001b[0m                 \u001b[0;32mfor\u001b[0m \u001b[0mqreg\u001b[0m \u001b[0;32min\u001b[0m \u001b[0mqregs\u001b[0m\u001b[0;34m:\u001b[0m\u001b[0;34m\u001b[0m\u001b[0m\n",
      "\u001b[0;32m~/q/qiskit-terra/qiskit/transpiler/passes/basis/decompose.py\u001b[0m in \u001b[0;36m<setcomp>\u001b[0;34m(.0)\u001b[0m\n\u001b[1;32m     54\u001b[0m                 \u001b[0;31m# TODO: need anonymous rules to address wires by index\u001b[0m\u001b[0;34m\u001b[0m\u001b[0;34m\u001b[0m\u001b[0m\n\u001b[1;32m     55\u001b[0m                 \u001b[0mdecomposition\u001b[0m \u001b[0;34m=\u001b[0m \u001b[0mDAGCircuit\u001b[0m\u001b[0;34m(\u001b[0m\u001b[0;34m)\u001b[0m\u001b[0;34m\u001b[0m\u001b[0m\n\u001b[0;32m---> 56\u001b[0;31m                 \u001b[0mqregs\u001b[0m \u001b[0;34m=\u001b[0m \u001b[0;34m{\u001b[0m\u001b[0mqb\u001b[0m\u001b[0;34m.\u001b[0m\u001b[0mregister\u001b[0m \u001b[0;32mfor\u001b[0m \u001b[0minst\u001b[0m \u001b[0;32min\u001b[0m \u001b[0mrule\u001b[0m \u001b[0;32mfor\u001b[0m \u001b[0mqb\u001b[0m \u001b[0;32min\u001b[0m \u001b[0minst\u001b[0m\u001b[0;34m[\u001b[0m\u001b[0;36m1\u001b[0m\u001b[0;34m]\u001b[0m\u001b[0;34m}\u001b[0m\u001b[0;34m\u001b[0m\u001b[0m\n\u001b[0m\u001b[1;32m     57\u001b[0m                 \u001b[0mcregs\u001b[0m \u001b[0;34m=\u001b[0m \u001b[0;34m{\u001b[0m\u001b[0mcb\u001b[0m\u001b[0;34m.\u001b[0m\u001b[0mregister\u001b[0m \u001b[0;32mfor\u001b[0m \u001b[0minst\u001b[0m \u001b[0;32min\u001b[0m \u001b[0mrule\u001b[0m \u001b[0;32mfor\u001b[0m \u001b[0mcb\u001b[0m \u001b[0;32min\u001b[0m \u001b[0minst\u001b[0m\u001b[0;34m[\u001b[0m\u001b[0;36m2\u001b[0m\u001b[0;34m]\u001b[0m\u001b[0;34m}\u001b[0m\u001b[0;34m\u001b[0m\u001b[0m\n\u001b[1;32m     58\u001b[0m                 \u001b[0;32mfor\u001b[0m \u001b[0mqreg\u001b[0m \u001b[0;32min\u001b[0m \u001b[0mqregs\u001b[0m\u001b[0;34m:\u001b[0m\u001b[0;34m\u001b[0m\u001b[0m\n",
      "\u001b[0;31mAttributeError\u001b[0m: 'ReglessQubit' object has no attribute 'register'"
     ]
    }
   ],
   "source": [
    "print(qc.decompose())"
   ]
  },
  {
   "cell_type": "code",
   "execution_count": null,
   "metadata": {},
   "outputs": [],
   "source": []
  }
 ],
 "metadata": {
  "kernelspec": {
   "display_name": "qiskit-terra",
   "language": "python",
   "name": "qiskit-terra"
  },
  "language_info": {
   "codemirror_mode": {
    "name": "ipython",
    "version": 3
   },
   "file_extension": ".py",
   "mimetype": "text/x-python",
   "name": "python",
   "nbconvert_exporter": "python",
   "pygments_lexer": "ipython3",
   "version": "3.5.6"
  }
 },
 "nbformat": 4,
 "nbformat_minor": 2
}
