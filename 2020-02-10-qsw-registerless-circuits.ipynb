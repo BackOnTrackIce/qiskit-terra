{
 "cells": [
  {
   "cell_type": "code",
   "execution_count": 1,
   "metadata": {
    "ExecuteTime": {
     "end_time": "2020-02-11T18:24:25.879285Z",
     "start_time": "2020-02-11T18:24:24.182637Z"
    }
   },
   "outputs": [
    {
     "name": "stderr",
     "output_type": "stream",
     "text": [
      "/Users/kevin.krsulichibm.com/q/qiskit-terra/qiskit/__init__.py:78: DeprecationWarning: Using Qiskit with Python 3.5 is deprecated as of the 0.12.0 release. Support for running Qiskit with Python 3.5 will be removed at the Python 3.5 EoL on 09/13/2020.\n",
      "  \"Python 3.5 EoL on 09/13/2020.\", DeprecationWarning)\n"
     ]
    }
   ],
   "source": [
    "import qiskit as qk"
   ]
  },
  {
   "cell_type": "code",
   "execution_count": 2,
   "metadata": {
    "ExecuteTime": {
     "end_time": "2020-02-11T18:24:25.885609Z",
     "start_time": "2020-02-11T18:24:25.882597Z"
    }
   },
   "outputs": [],
   "source": [
    "from qiskit.circuit import ReglessQubit, ReglessClbit"
   ]
  },
  {
   "cell_type": "code",
   "execution_count": 3,
   "metadata": {
    "ExecuteTime": {
     "end_time": "2020-02-11T18:24:25.894064Z",
     "start_time": "2020-02-11T18:24:25.887521Z"
    }
   },
   "outputs": [],
   "source": [
    "qargs = [ReglessQubit() for _ in range(5)]\n",
    "cargs = [ReglessClbit() for _ in range(1)]"
   ]
  },
  {
   "cell_type": "code",
   "execution_count": 4,
   "metadata": {
    "ExecuteTime": {
     "end_time": "2020-02-11T18:24:25.905776Z",
     "start_time": "2020-02-11T18:24:25.897659Z"
    }
   },
   "outputs": [
    {
     "data": {
      "text/plain": [
       "[ReglessQubit(0x129a0e198),\n",
       " ReglessQubit(0x129a0ee80),\n",
       " ReglessQubit(0x129a0ef28),\n",
       " ReglessQubit(0x129a0eef0),\n",
       " ReglessQubit(0x129a0e4e0)]"
      ]
     },
     "execution_count": 4,
     "metadata": {},
     "output_type": "execute_result"
    }
   ],
   "source": [
    "qargs"
   ]
  },
  {
   "cell_type": "code",
   "execution_count": 5,
   "metadata": {
    "ExecuteTime": {
     "end_time": "2020-02-11T18:24:25.916145Z",
     "start_time": "2020-02-11T18:24:25.910297Z"
    }
   },
   "outputs": [
    {
     "data": {
      "text/plain": [
       "[ReglessClbit(0x129a0e1d0)]"
      ]
     },
     "execution_count": 5,
     "metadata": {},
     "output_type": "execute_result"
    }
   ],
   "source": [
    "cargs"
   ]
  },
  {
   "cell_type": "code",
   "execution_count": 6,
   "metadata": {
    "ExecuteTime": {
     "end_time": "2020-02-11T18:24:25.921675Z",
     "start_time": "2020-02-11T18:24:25.918184Z"
    }
   },
   "outputs": [],
   "source": [
    "from qiskit.circuit import QuantumRegister, ClassicalRegister"
   ]
  },
  {
   "cell_type": "code",
   "execution_count": 7,
   "metadata": {
    "ExecuteTime": {
     "end_time": "2020-02-11T18:24:25.928362Z",
     "start_time": "2020-02-11T18:24:25.924324Z"
    }
   },
   "outputs": [],
   "source": [
    "qr = QuantumRegister(bits=qargs)\n",
    "cr = ClassicalRegister(bits=cargs)"
   ]
  },
  {
   "cell_type": "code",
   "execution_count": 8,
   "metadata": {
    "ExecuteTime": {
     "end_time": "2020-02-11T18:24:25.937144Z",
     "start_time": "2020-02-11T18:24:25.931135Z"
    }
   },
   "outputs": [
    {
     "data": {
      "text/plain": [
       "QuantumRegister(5, 'q0')"
      ]
     },
     "execution_count": 8,
     "metadata": {},
     "output_type": "execute_result"
    }
   ],
   "source": [
    "qr"
   ]
  },
  {
   "cell_type": "code",
   "execution_count": 9,
   "metadata": {
    "ExecuteTime": {
     "end_time": "2020-02-11T18:24:25.946544Z",
     "start_time": "2020-02-11T18:24:25.940177Z"
    }
   },
   "outputs": [
    {
     "data": {
      "text/plain": [
       "ClassicalRegister(1, 'c0')"
      ]
     },
     "execution_count": 9,
     "metadata": {},
     "output_type": "execute_result"
    }
   ],
   "source": [
    "cr"
   ]
  },
  {
   "cell_type": "code",
   "execution_count": 10,
   "metadata": {
    "ExecuteTime": {
     "end_time": "2020-02-11T18:24:25.955576Z",
     "start_time": "2020-02-11T18:24:25.949882Z"
    }
   },
   "outputs": [
    {
     "data": {
      "text/plain": [
       "ReglessQubit(0x129a0e198)"
      ]
     },
     "execution_count": 10,
     "metadata": {},
     "output_type": "execute_result"
    }
   ],
   "source": [
    "qr[0]"
   ]
  },
  {
   "cell_type": "code",
   "execution_count": 11,
   "metadata": {
    "ExecuteTime": {
     "end_time": "2020-02-11T18:24:25.964222Z",
     "start_time": "2020-02-11T18:24:25.958826Z"
    }
   },
   "outputs": [
    {
     "data": {
      "text/plain": [
       "ReglessClbit(0x129a0e1d0)"
      ]
     },
     "execution_count": 11,
     "metadata": {},
     "output_type": "execute_result"
    }
   ],
   "source": [
    "cr[0]"
   ]
  },
  {
   "cell_type": "code",
   "execution_count": 12,
   "metadata": {
    "ExecuteTime": {
     "end_time": "2020-02-11T18:24:25.970370Z",
     "start_time": "2020-02-11T18:24:25.966832Z"
    }
   },
   "outputs": [],
   "source": [
    "qc = qk.QuantumCircuit(qr, cr)"
   ]
  },
  {
   "cell_type": "code",
   "execution_count": 13,
   "metadata": {
    "ExecuteTime": {
     "end_time": "2020-02-11T18:24:25.980749Z",
     "start_time": "2020-02-11T18:24:25.973495Z"
    }
   },
   "outputs": [
    {
     "data": {
      "text/plain": [
       "[ReglessQubit(0x129a0e198),\n",
       " ReglessQubit(0x129a0ee80),\n",
       " ReglessQubit(0x129a0ef28),\n",
       " ReglessQubit(0x129a0eef0),\n",
       " ReglessQubit(0x129a0e4e0)]"
      ]
     },
     "execution_count": 13,
     "metadata": {},
     "output_type": "execute_result"
    }
   ],
   "source": [
    "qc.qubits"
   ]
  },
  {
   "cell_type": "code",
   "execution_count": 14,
   "metadata": {
    "ExecuteTime": {
     "end_time": "2020-02-11T18:24:25.989944Z",
     "start_time": "2020-02-11T18:24:25.984591Z"
    }
   },
   "outputs": [
    {
     "data": {
      "text/plain": [
       "[ReglessClbit(0x129a0e1d0)]"
      ]
     },
     "execution_count": 14,
     "metadata": {},
     "output_type": "execute_result"
    }
   ],
   "source": [
    "qc.clbits"
   ]
  },
  {
   "cell_type": "code",
   "execution_count": 15,
   "metadata": {
    "ExecuteTime": {
     "end_time": "2020-02-11T18:24:25.999017Z",
     "start_time": "2020-02-11T18:24:25.992814Z"
    }
   },
   "outputs": [
    {
     "data": {
      "text/plain": [
       "{QuantumRegister(5, 'q0')}"
      ]
     },
     "execution_count": 15,
     "metadata": {},
     "output_type": "execute_result"
    }
   ],
   "source": [
    "qc.qregs"
   ]
  },
  {
   "cell_type": "code",
   "execution_count": 16,
   "metadata": {
    "ExecuteTime": {
     "end_time": "2020-02-11T18:24:26.007119Z",
     "start_time": "2020-02-11T18:24:26.001249Z"
    }
   },
   "outputs": [
    {
     "data": {
      "text/plain": [
       "{ClassicalRegister(1, 'c0')}"
      ]
     },
     "execution_count": 16,
     "metadata": {},
     "output_type": "execute_result"
    }
   ],
   "source": [
    "qc.cregs"
   ]
  },
  {
   "cell_type": "code",
   "execution_count": 17,
   "metadata": {
    "ExecuteTime": {
     "end_time": "2020-02-11T18:24:26.017497Z",
     "start_time": "2020-02-11T18:24:26.010928Z"
    }
   },
   "outputs": [
    {
     "data": {
      "text/plain": [
       "<qiskit.circuit.instructionset.InstructionSet at 0x129a69668>"
      ]
     },
     "execution_count": 17,
     "metadata": {},
     "output_type": "execute_result"
    }
   ],
   "source": [
    "qc.h(qr[0])"
   ]
  },
  {
   "cell_type": "code",
   "execution_count": 18,
   "metadata": {
    "ExecuteTime": {
     "end_time": "2020-02-11T18:24:26.031954Z",
     "start_time": "2020-02-11T18:24:26.025800Z"
    }
   },
   "outputs": [
    {
     "data": {
      "text/plain": [
       "<qiskit.circuit.instructionset.InstructionSet at 0x129a1fa90>"
      ]
     },
     "execution_count": 18,
     "metadata": {},
     "output_type": "execute_result"
    }
   ],
   "source": [
    "qc.h(0)"
   ]
  },
  {
   "cell_type": "code",
   "execution_count": 19,
   "metadata": {
    "ExecuteTime": {
     "end_time": "2020-02-11T18:24:26.039795Z",
     "start_time": "2020-02-11T18:24:26.035642Z"
    }
   },
   "outputs": [],
   "source": [
    "qc = qk.QuantumCircuit(5,3)"
   ]
  },
  {
   "cell_type": "code",
   "execution_count": 20,
   "metadata": {
    "ExecuteTime": {
     "end_time": "2020-02-11T18:24:26.049879Z",
     "start_time": "2020-02-11T18:24:26.042792Z"
    }
   },
   "outputs": [
    {
     "data": {
      "text/plain": [
       "[ReglessQubit(0x129a1f160),\n",
       " ReglessQubit(0x129a1f898),\n",
       " ReglessQubit(0x129a1fa58),\n",
       " ReglessQubit(0x129a1fb38),\n",
       " ReglessQubit(0x129a1f5c0)]"
      ]
     },
     "execution_count": 20,
     "metadata": {},
     "output_type": "execute_result"
    }
   ],
   "source": [
    "qc.qubits"
   ]
  },
  {
   "cell_type": "code",
   "execution_count": 21,
   "metadata": {
    "ExecuteTime": {
     "end_time": "2020-02-11T18:24:26.060856Z",
     "start_time": "2020-02-11T18:24:26.053488Z"
    }
   },
   "outputs": [
    {
     "data": {
      "text/plain": [
       "[ReglessClbit(0x129a1f048),\n",
       " ReglessClbit(0x129a1fd68),\n",
       " ReglessClbit(0x129a1f9b0)]"
      ]
     },
     "execution_count": 21,
     "metadata": {},
     "output_type": "execute_result"
    }
   ],
   "source": [
    "qc.clbits"
   ]
  },
  {
   "cell_type": "code",
   "execution_count": 22,
   "metadata": {
    "ExecuteTime": {
     "end_time": "2020-02-11T18:24:26.071791Z",
     "start_time": "2020-02-11T18:24:26.064441Z"
    }
   },
   "outputs": [
    {
     "data": {
      "text/plain": [
       "set()"
      ]
     },
     "execution_count": 22,
     "metadata": {},
     "output_type": "execute_result"
    }
   ],
   "source": [
    "qc.qregs"
   ]
  },
  {
   "cell_type": "code",
   "execution_count": 23,
   "metadata": {
    "ExecuteTime": {
     "end_time": "2020-02-11T18:24:26.081100Z",
     "start_time": "2020-02-11T18:24:26.074920Z"
    }
   },
   "outputs": [
    {
     "data": {
      "text/plain": [
       "set()"
      ]
     },
     "execution_count": 23,
     "metadata": {},
     "output_type": "execute_result"
    }
   ],
   "source": [
    "qc.cregs"
   ]
  },
  {
   "cell_type": "code",
   "execution_count": 24,
   "metadata": {
    "ExecuteTime": {
     "end_time": "2020-02-11T18:24:26.093089Z",
     "start_time": "2020-02-11T18:24:26.084604Z"
    }
   },
   "outputs": [
    {
     "data": {
      "text/plain": [
       "<qiskit.circuit.instructionset.InstructionSet at 0x129a69240>"
      ]
     },
     "execution_count": 24,
     "metadata": {},
     "output_type": "execute_result"
    }
   ],
   "source": [
    "qc.h(0)"
   ]
  },
  {
   "cell_type": "code",
   "execution_count": 25,
   "metadata": {
    "ExecuteTime": {
     "end_time": "2020-02-11T18:24:26.102325Z",
     "start_time": "2020-02-11T18:24:26.096648Z"
    }
   },
   "outputs": [
    {
     "data": {
      "text/plain": [
       "<qiskit.circuit.instructionset.InstructionSet at 0x129a69710>"
      ]
     },
     "execution_count": 25,
     "metadata": {},
     "output_type": "execute_result"
    }
   ],
   "source": [
    "qc.h(qc.qubits[0])"
   ]
  },
  {
   "cell_type": "code",
   "execution_count": 26,
   "metadata": {
    "ExecuteTime": {
     "end_time": "2020-02-11T18:24:26.115301Z",
     "start_time": "2020-02-11T18:24:26.105101Z"
    }
   },
   "outputs": [
    {
     "name": "stdout",
     "output_type": "stream",
     "text": [
      "         ┌───┐┌───┐\n",
      "Qubit 0: ┤ H ├┤ H ├\n",
      "         └───┘└───┘\n",
      "Qubit 1: ──────────\n",
      "                   \n",
      "Qubit 2: ──────────\n",
      "                   \n",
      "Qubit 3: ──────────\n",
      "                   \n",
      "Qubit 4: ──────────\n",
      "                   \n",
      "Clbit 0: ══════════\n",
      "                   \n",
      "Clbit 1: ══════════\n",
      "                   \n",
      "Clbit 2: ══════════\n",
      "                   \n"
     ]
    }
   ],
   "source": [
    "print(qc)"
   ]
  },
  {
   "cell_type": "code",
   "execution_count": 27,
   "metadata": {
    "ExecuteTime": {
     "end_time": "2020-02-11T18:24:26.125153Z",
     "start_time": "2020-02-11T18:24:26.119548Z"
    }
   },
   "outputs": [],
   "source": [
    "dag = qk.converters.circuit_to_dag(qc)"
   ]
  },
  {
   "cell_type": "code",
   "execution_count": 28,
   "metadata": {
    "ExecuteTime": {
     "end_time": "2020-02-11T18:24:26.470128Z",
     "start_time": "2020-02-11T18:24:26.128623Z"
    }
   },
   "outputs": [
    {
     "data": {
      "image/png": "[encoded data removed]",
      "text/plain": [
       "<PIL.PngImagePlugin.PngImageFile image mode=RGBA size=2574x403 at 0x129B27320>"
      ]
     },
     "execution_count": 28,
     "metadata": {},
     "output_type": "execute_result"
    }
   ],
   "source": [
    "dag.draw()"
   ]
  },
  {
   "cell_type": "code",
   "execution_count": 29,
   "metadata": {
    "ExecuteTime": {
     "end_time": "2020-02-11T18:24:26.481108Z",
     "start_time": "2020-02-11T18:24:26.472641Z"
    }
   },
   "outputs": [
    {
     "data": {
      "text/plain": [
       "[{'graph': <qiskit.dagcircuit.dagcircuit.DAGCircuit at 0x127d9b198>,\n",
       "  'partition': [[ReglessQubit(0x129a1f160)]]},\n",
       " {'graph': <qiskit.dagcircuit.dagcircuit.DAGCircuit at 0x127d9b278>,\n",
       "  'partition': [[ReglessQubit(0x129a1f160)]]}]"
      ]
     },
     "execution_count": 29,
     "metadata": {},
     "output_type": "execute_result"
    }
   ],
   "source": [
    "list(dag.layers())"
   ]
  },
  {
   "cell_type": "code",
   "execution_count": 30,
   "metadata": {
    "ExecuteTime": {
     "end_time": "2020-02-11T18:24:26.489442Z",
     "start_time": "2020-02-11T18:24:26.483088Z"
    }
   },
   "outputs": [
    {
     "data": {
      "text/plain": [
       "QuantumRegister(3, 'foo')"
      ]
     },
     "execution_count": 30,
     "metadata": {},
     "output_type": "execute_result"
    }
   ],
   "source": [
    "qc.mark_registers((0,2,4), 'foo')"
   ]
  },
  {
   "cell_type": "code",
   "execution_count": 31,
   "metadata": {
    "ExecuteTime": {
     "end_time": "2020-02-11T18:24:26.495824Z",
     "start_time": "2020-02-11T18:24:26.491548Z"
    },
    "scrolled": true
   },
   "outputs": [
    {
     "data": {
      "text/plain": [
       "{QuantumRegister(3, 'foo')}"
      ]
     },
     "execution_count": 31,
     "metadata": {},
     "output_type": "execute_result"
    }
   ],
   "source": [
    "qc.qregs"
   ]
  },
  {
   "cell_type": "code",
   "execution_count": 32,
   "metadata": {
    "ExecuteTime": {
     "end_time": "2020-02-11T18:24:26.503682Z",
     "start_time": "2020-02-11T18:24:26.498594Z"
    }
   },
   "outputs": [
    {
     "data": {
      "text/plain": [
       "[ReglessQubit(0x129a1f160),\n",
       " ReglessQubit(0x129a1fa58),\n",
       " ReglessQubit(0x129a1f5c0)]"
      ]
     },
     "execution_count": 32,
     "metadata": {},
     "output_type": "execute_result"
    }
   ],
   "source": [
    "list(qc.qregs)[0][:]"
   ]
  },
  {
   "cell_type": "code",
   "execution_count": 33,
   "metadata": {
    "ExecuteTime": {
     "end_time": "2020-02-11T18:24:26.516455Z",
     "start_time": "2020-02-11T18:24:26.507388Z"
    }
   },
   "outputs": [
    {
     "data": {
      "text/plain": [
       "QuantumRegister(2, 'bar')"
      ]
     },
     "execution_count": 33,
     "metadata": {},
     "output_type": "execute_result"
    }
   ],
   "source": [
    "qc.mark_registers([qc.qubits[1], qc.qubits[3]], name='bar')"
   ]
  },
  {
   "cell_type": "code",
   "execution_count": 34,
   "metadata": {
    "ExecuteTime": {
     "end_time": "2020-02-11T18:24:26.525002Z",
     "start_time": "2020-02-11T18:24:26.518834Z"
    }
   },
   "outputs": [
    {
     "data": {
      "text/plain": [
       "{QuantumRegister(2, 'bar'), QuantumRegister(3, 'foo')}"
      ]
     },
     "execution_count": 34,
     "metadata": {},
     "output_type": "execute_result"
    }
   ],
   "source": [
    "qc.qregs"
   ]
  },
  {
   "cell_type": "code",
   "execution_count": 35,
   "metadata": {
    "ExecuteTime": {
     "end_time": "2020-02-11T18:24:26.537149Z",
     "start_time": "2020-02-11T18:24:26.527670Z"
    }
   },
   "outputs": [
    {
     "name": "stdout",
     "output_type": "stream",
     "text": [
      "         ┌───┐\n",
      "Qubit 0: ┤ H ├\n",
      "         └───┘\n",
      "Qubit 1: ─────\n",
      "              \n",
      "Qubit 2: ─────\n",
      "              \n",
      "Qubit 3: ─────\n",
      "              \n",
      "Qubit 4: ─────\n",
      "              \n"
     ]
    }
   ],
   "source": [
    "h_broad = qk.QuantumCircuit(5, name='h_layer')\n",
    "h_broad.h(h_broad.qubits[0])\n",
    "print(h_broad)"
   ]
  },
  {
   "cell_type": "code",
   "execution_count": 36,
   "metadata": {
    "ExecuteTime": {
     "end_time": "2020-02-11T18:24:26.551424Z",
     "start_time": "2020-02-11T18:24:26.541366Z"
    }
   },
   "outputs": [
    {
     "name": "stdout",
     "output_type": "stream",
     "text": [
      "                             \n",
      "Qubit 0: ──■─────────────────\n",
      "         ┌─┴─┐               \n",
      "Qubit 1: ┤ X ├──■────────────\n",
      "         └───┘┌─┴─┐          \n",
      "Qubit 2: ─────┤ X ├──■───────\n",
      "              └───┘┌─┴─┐     \n",
      "Qubit 3: ──────────┤ X ├──■──\n",
      "                   └───┘┌─┴─┐\n",
      "Qubit 4: ───────────────┤ X ├\n",
      "                        └───┘\n"
     ]
    }
   ],
   "source": [
    "cx_tile = qk.QuantumCircuit(5, name='cx_layer')\n",
    "for i in range(4):\n",
    "    cx_tile.cx(i, i+1)\n",
    "print(cx_tile)"
   ]
  },
  {
   "cell_type": "code",
   "execution_count": 37,
   "metadata": {
    "ExecuteTime": {
     "end_time": "2020-02-11T18:24:27.108171Z",
     "start_time": "2020-02-11T18:24:26.553664Z"
    }
   },
   "outputs": [
    {
     "data": {
      "text/plain": [
       "<qiskit.circuit.instructionset.InstructionSet at 0x12abb4da0>"
      ]
     },
     "execution_count": 37,
     "metadata": {},
     "output_type": "execute_result"
    }
   ],
   "source": [
    "th = qk.circuit.Parameter('theta')\n",
    "qc = qk.QuantumCircuit(5,1)\n",
    "qc.append(h_broad, range(5))"
   ]
  },
  {
   "cell_type": "code",
   "execution_count": 38,
   "metadata": {
    "ExecuteTime": {
     "end_time": "2020-02-11T18:24:27.115491Z",
     "start_time": "2020-02-11T18:24:27.109890Z"
    }
   },
   "outputs": [
    {
     "name": "stdout",
     "output_type": "stream",
     "text": [
      "         ┌──────────┐\n",
      "Qubit 0: ┤0         ├\n",
      "         │          │\n",
      "Qubit 1: ┤1         ├\n",
      "         │          │\n",
      "Qubit 2: ┤2 H_layer ├\n",
      "         │          │\n",
      "Qubit 3: ┤3         ├\n",
      "         │          │\n",
      "Qubit 4: ┤4         ├\n",
      "         └──────────┘\n",
      "Clbit 0: ════════════\n",
      "                     \n"
     ]
    }
   ],
   "source": [
    "print(qc)"
   ]
  },
  {
   "cell_type": "code",
   "execution_count": 39,
   "metadata": {
    "ExecuteTime": {
     "end_time": "2020-02-11T18:24:27.123783Z",
     "start_time": "2020-02-11T18:24:27.117224Z"
    }
   },
   "outputs": [
    {
     "data": {
      "text/plain": [
       "<qiskit.circuit.instructionset.InstructionSet at 0x12af46a20>"
      ]
     },
     "execution_count": 39,
     "metadata": {},
     "output_type": "execute_result"
    }
   ],
   "source": [
    "qc.append(cx_tile, [0,1,2,3,4])"
   ]
  },
  {
   "cell_type": "code",
   "execution_count": 40,
   "metadata": {
    "ExecuteTime": {
     "end_time": "2020-02-11T18:24:27.132927Z",
     "start_time": "2020-02-11T18:24:27.126416Z"
    }
   },
   "outputs": [
    {
     "data": {
      "text/plain": [
       "<qiskit.circuit.instructionset.InstructionSet at 0x12af57240>"
      ]
     },
     "execution_count": 40,
     "metadata": {},
     "output_type": "execute_result"
    }
   ],
   "source": [
    "qc.rz(th, qc.qubits)"
   ]
  },
  {
   "cell_type": "code",
   "execution_count": 41,
   "metadata": {
    "ExecuteTime": {
     "end_time": "2020-02-11T18:24:27.142470Z",
     "start_time": "2020-02-11T18:24:27.135712Z"
    }
   },
   "outputs": [
    {
     "data": {
      "text/plain": [
       "<qiskit.circuit.instructionset.InstructionSet at 0x12af57a90>"
      ]
     },
     "execution_count": 41,
     "metadata": {},
     "output_type": "execute_result"
    }
   ],
   "source": [
    "qc.append(cx_tile.mirror(), [0,1,2,3,4])"
   ]
  },
  {
   "cell_type": "code",
   "execution_count": 42,
   "metadata": {
    "ExecuteTime": {
     "end_time": "2020-02-11T18:24:27.156883Z",
     "start_time": "2020-02-11T18:24:27.145426Z"
    }
   },
   "outputs": [
    {
     "name": "stdout",
     "output_type": "stream",
     "text": [
      "         ┌──────────┐┌───────────┐┌───────────┐┌──────────────────┐\n",
      "Qubit 0: ┤0         ├┤0          ├┤ Rz(theta) ├┤0                 ├\n",
      "         │          ││           │├───────────┤│                  │\n",
      "Qubit 1: ┤1         ├┤1          ├┤ Rz(theta) ├┤1                 ├\n",
      "         │          ││           │├───────────┤│                  │\n",
      "Qubit 2: ┤2 H_layer ├┤2 Cx_layer ├┤ Rz(theta) ├┤2 Cx_layer_mirror ├\n",
      "         │          ││           │├───────────┤│                  │\n",
      "Qubit 3: ┤3         ├┤3          ├┤ Rz(theta) ├┤3                 ├\n",
      "         │          ││           │├───────────┤│                  │\n",
      "Qubit 4: ┤4         ├┤4          ├┤ Rz(theta) ├┤4                 ├\n",
      "         └──────────┘└───────────┘└───────────┘└──────────────────┘\n",
      "Clbit 0: ══════════════════════════════════════════════════════════\n",
      "                                                                   \n"
     ]
    }
   ],
   "source": [
    "print(qc)"
   ]
  },
  {
   "cell_type": "code",
   "execution_count": 46,
   "metadata": {
    "ExecuteTime": {
     "end_time": "2020-02-11T18:32:13.193372Z",
     "start_time": "2020-02-11T18:32:13.170102Z"
    }
   },
   "outputs": [
    {
     "name": "stdout",
     "output_type": "stream",
     "text": [
      "         ┌───┐     ┌───────────┐                                            »\n",
      "Qubit 0: ┤ H ├──■──┤ U1(theta) ├────────────────────────────────────────────»\n",
      "         └───┘┌─┴─┐└───────────┘┌───────────┐                               »\n",
      "Qubit 1: ─────┤ X ├──────■──────┤ U1(theta) ├───────────────────────────────»\n",
      "              └───┘    ┌─┴─┐    └───────────┘┌───────────┐                  »\n",
      "Qubit 2: ──────────────┤ X ├──────────■──────┤ U1(theta) ├──────────────────»\n",
      "                       └───┘        ┌─┴─┐    └───────────┘┌───────────┐     »\n",
      "Qubit 3: ───────────────────────────┤ X ├──────────■──────┤ U1(theta) ├──■──»\n",
      "                                    └───┘        ┌─┴─┐    ├───────────┤┌─┴─┐»\n",
      "Qubit 4: ────────────────────────────────────────┤ X ├────┤ U1(theta) ├┤ X ├»\n",
      "                                                 └───┘    └───────────┘└───┘»\n",
      "Clbit 0: ═══════════════════════════════════════════════════════════════════»\n",
      "                                                                            »\n",
      "«                        \n",
      "«Qubit 0: ────────────■──\n",
      "«                   ┌─┴─┐\n",
      "«Qubit 1: ───────■──┤ X ├\n",
      "«              ┌─┴─┐└───┘\n",
      "«Qubit 2: ──■──┤ X ├─────\n",
      "«         ┌─┴─┐└───┘     \n",
      "«Qubit 3: ┤ X ├──────────\n",
      "«         └───┘          \n",
      "«Qubit 4: ───────────────\n",
      "«                        \n",
      "«Clbit 0: ═══════════════\n",
      "«                        \n"
     ]
    }
   ],
   "source": [
    "print(qc.decompose())"
   ]
  },
  {
   "cell_type": "code",
   "execution_count": null,
   "metadata": {},
   "outputs": [],
   "source": []
  }
 ],
 "metadata": {
  "kernelspec": {
   "display_name": "qiskit-terra",
   "language": "python",
   "name": "qiskit-terra"
  },
  "language_info": {
   "codemirror_mode": {
    "name": "ipython",
    "version": 3
   },
   "file_extension": ".py",
   "mimetype": "text/x-python",
   "name": "python",
   "nbconvert_exporter": "python",
   "pygments_lexer": "ipython3",
   "version": "3.5.6"
  }
 },
 "nbformat": 4,
 "nbformat_minor": 2
}
