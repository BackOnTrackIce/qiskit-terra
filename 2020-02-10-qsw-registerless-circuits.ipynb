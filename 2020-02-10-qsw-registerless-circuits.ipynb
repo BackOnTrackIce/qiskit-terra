{
 "cells": [
  {
   "cell_type": "code",
   "execution_count": 1,
   "metadata": {
    "ExecuteTime": {
     "end_time": "2020-02-11T15:22:20.679833Z",
     "start_time": "2020-02-11T15:22:18.822852Z"
    }
   },
   "outputs": [
    {
     "name": "stderr",
     "output_type": "stream",
     "text": [
      "/Users/kevin.krsulichibm.com/q/qiskit-terra/qiskit/__init__.py:78: DeprecationWarning: Using Qiskit with Python 3.5 is deprecated as of the 0.12.0 release. Support for running Qiskit with Python 3.5 will be removed at the Python 3.5 EoL on 09/13/2020.\n",
      "  \"Python 3.5 EoL on 09/13/2020.\", DeprecationWarning)\n"
     ]
    }
   ],
   "source": [
    "import qiskit as qk"
   ]
  },
  {
   "cell_type": "code",
   "execution_count": 2,
   "metadata": {
    "ExecuteTime": {
     "end_time": "2020-02-11T15:22:20.685077Z",
     "start_time": "2020-02-11T15:22:20.682452Z"
    }
   },
   "outputs": [],
   "source": [
    "from qiskit.circuit import ReglessQubit, ReglessClbit"
   ]
  },
  {
   "cell_type": "code",
   "execution_count": 3,
   "metadata": {
    "ExecuteTime": {
     "end_time": "2020-02-11T15:22:20.690751Z",
     "start_time": "2020-02-11T15:22:20.687221Z"
    }
   },
   "outputs": [],
   "source": [
    "qargs = [ReglessQubit() for _ in range(5)]\n",
    "cargs = [ReglessClbit() for _ in range(1)]"
   ]
  },
  {
   "cell_type": "code",
   "execution_count": 4,
   "metadata": {
    "ExecuteTime": {
     "end_time": "2020-02-11T15:22:20.701982Z",
     "start_time": "2020-02-11T15:22:20.693947Z"
    }
   },
   "outputs": [
    {
     "data": {
      "text/plain": [
       "[ReglessQubit(0x12458d4e0),\n",
       " ReglessQubit(0x12458d438),\n",
       " ReglessQubit(0x12458dc18),\n",
       " ReglessQubit(0x12458d748),\n",
       " ReglessQubit(0x12458d630)]"
      ]
     },
     "execution_count": 4,
     "metadata": {},
     "output_type": "execute_result"
    }
   ],
   "source": [
    "qargs"
   ]
  },
  {
   "cell_type": "code",
   "execution_count": 5,
   "metadata": {
    "ExecuteTime": {
     "end_time": "2020-02-11T15:22:20.711463Z",
     "start_time": "2020-02-11T15:22:20.706246Z"
    }
   },
   "outputs": [
    {
     "data": {
      "text/plain": [
       "[ReglessClbit(0x12458d7b8)]"
      ]
     },
     "execution_count": 5,
     "metadata": {},
     "output_type": "execute_result"
    }
   ],
   "source": [
    "cargs"
   ]
  },
  {
   "cell_type": "code",
   "execution_count": 6,
   "metadata": {
    "ExecuteTime": {
     "end_time": "2020-02-11T15:22:20.717286Z",
     "start_time": "2020-02-11T15:22:20.713727Z"
    }
   },
   "outputs": [],
   "source": [
    "from qiskit.circuit import QuantumRegister, ClassicalRegister"
   ]
  },
  {
   "cell_type": "code",
   "execution_count": 7,
   "metadata": {
    "ExecuteTime": {
     "end_time": "2020-02-11T15:22:20.723741Z",
     "start_time": "2020-02-11T15:22:20.719389Z"
    }
   },
   "outputs": [],
   "source": [
    "qr = QuantumRegister(bits=qargs)\n",
    "cr = ClassicalRegister(bits=cargs)"
   ]
  },
  {
   "cell_type": "code",
   "execution_count": 8,
   "metadata": {
    "ExecuteTime": {
     "end_time": "2020-02-11T15:22:20.732141Z",
     "start_time": "2020-02-11T15:22:20.726520Z"
    }
   },
   "outputs": [
    {
     "data": {
      "text/plain": [
       "QuantumRegister(5, 'q0')"
      ]
     },
     "execution_count": 8,
     "metadata": {},
     "output_type": "execute_result"
    }
   ],
   "source": [
    "qr"
   ]
  },
  {
   "cell_type": "code",
   "execution_count": 9,
   "metadata": {
    "ExecuteTime": {
     "end_time": "2020-02-11T15:22:20.741303Z",
     "start_time": "2020-02-11T15:22:20.735073Z"
    }
   },
   "outputs": [
    {
     "data": {
      "text/plain": [
       "ClassicalRegister(1, 'c0')"
      ]
     },
     "execution_count": 9,
     "metadata": {},
     "output_type": "execute_result"
    }
   ],
   "source": [
    "cr"
   ]
  },
  {
   "cell_type": "code",
   "execution_count": 10,
   "metadata": {
    "ExecuteTime": {
     "end_time": "2020-02-11T15:22:20.749128Z",
     "start_time": "2020-02-11T15:22:20.743557Z"
    }
   },
   "outputs": [
    {
     "data": {
      "text/plain": [
       "ReglessQubit(0x12458d4e0)"
      ]
     },
     "execution_count": 10,
     "metadata": {},
     "output_type": "execute_result"
    }
   ],
   "source": [
    "qr[0]"
   ]
  },
  {
   "cell_type": "code",
   "execution_count": 11,
   "metadata": {
    "ExecuteTime": {
     "end_time": "2020-02-11T15:22:20.757929Z",
     "start_time": "2020-02-11T15:22:20.751953Z"
    }
   },
   "outputs": [
    {
     "data": {
      "text/plain": [
       "ReglessClbit(0x12458d7b8)"
      ]
     },
     "execution_count": 11,
     "metadata": {},
     "output_type": "execute_result"
    }
   ],
   "source": [
    "cr[0]"
   ]
  },
  {
   "cell_type": "code",
   "execution_count": 12,
   "metadata": {
    "ExecuteTime": {
     "end_time": "2020-02-11T15:22:20.764866Z",
     "start_time": "2020-02-11T15:22:20.760709Z"
    }
   },
   "outputs": [],
   "source": [
    "qc = qk.QuantumCircuit(qr, cr)"
   ]
  },
  {
   "cell_type": "code",
   "execution_count": 13,
   "metadata": {
    "ExecuteTime": {
     "end_time": "2020-02-11T15:22:20.775104Z",
     "start_time": "2020-02-11T15:22:20.767958Z"
    }
   },
   "outputs": [
    {
     "data": {
      "text/plain": [
       "[ReglessQubit(0x12458d4e0),\n",
       " ReglessQubit(0x12458d438),\n",
       " ReglessQubit(0x12458dc18),\n",
       " ReglessQubit(0x12458d748),\n",
       " ReglessQubit(0x12458d630)]"
      ]
     },
     "execution_count": 13,
     "metadata": {},
     "output_type": "execute_result"
    }
   ],
   "source": [
    "qc.qubits"
   ]
  },
  {
   "cell_type": "code",
   "execution_count": 14,
   "metadata": {
    "ExecuteTime": {
     "end_time": "2020-02-11T15:22:20.784525Z",
     "start_time": "2020-02-11T15:22:20.777919Z"
    }
   },
   "outputs": [
    {
     "data": {
      "text/plain": [
       "[ReglessClbit(0x12458d7b8)]"
      ]
     },
     "execution_count": 14,
     "metadata": {},
     "output_type": "execute_result"
    }
   ],
   "source": [
    "qc.clbits"
   ]
  },
  {
   "cell_type": "code",
   "execution_count": 15,
   "metadata": {
    "ExecuteTime": {
     "end_time": "2020-02-11T15:22:20.793660Z",
     "start_time": "2020-02-11T15:22:20.787589Z"
    }
   },
   "outputs": [
    {
     "data": {
      "text/plain": [
       "{QuantumRegister(5, 'q0')}"
      ]
     },
     "execution_count": 15,
     "metadata": {},
     "output_type": "execute_result"
    }
   ],
   "source": [
    "qc.qregs"
   ]
  },
  {
   "cell_type": "code",
   "execution_count": 16,
   "metadata": {
    "ExecuteTime": {
     "end_time": "2020-02-11T15:22:20.803350Z",
     "start_time": "2020-02-11T15:22:20.796055Z"
    }
   },
   "outputs": [
    {
     "data": {
      "text/plain": [
       "{ClassicalRegister(1, 'c0')}"
      ]
     },
     "execution_count": 16,
     "metadata": {},
     "output_type": "execute_result"
    }
   ],
   "source": [
    "qc.cregs"
   ]
  },
  {
   "cell_type": "code",
   "execution_count": 17,
   "metadata": {
    "ExecuteTime": {
     "end_time": "2020-02-11T15:22:20.813087Z",
     "start_time": "2020-02-11T15:22:20.806532Z"
    }
   },
   "outputs": [
    {
     "data": {
      "text/plain": [
       "<qiskit.circuit.instructionset.InstructionSet at 0x124598978>"
      ]
     },
     "execution_count": 17,
     "metadata": {},
     "output_type": "execute_result"
    }
   ],
   "source": [
    "qc.h(qr[0])"
   ]
  },
  {
   "cell_type": "code",
   "execution_count": 18,
   "metadata": {
    "ExecuteTime": {
     "end_time": "2020-02-11T15:22:20.831322Z",
     "start_time": "2020-02-11T15:22:20.825047Z"
    }
   },
   "outputs": [
    {
     "data": {
      "text/plain": [
       "<qiskit.circuit.instructionset.InstructionSet at 0x1245a0d68>"
      ]
     },
     "execution_count": 18,
     "metadata": {},
     "output_type": "execute_result"
    }
   ],
   "source": [
    "qc.h(0)"
   ]
  },
  {
   "cell_type": "code",
   "execution_count": 19,
   "metadata": {
    "ExecuteTime": {
     "end_time": "2020-02-11T15:22:20.838958Z",
     "start_time": "2020-02-11T15:22:20.835133Z"
    }
   },
   "outputs": [],
   "source": [
    "qc = qk.QuantumCircuit(5,3)"
   ]
  },
  {
   "cell_type": "code",
   "execution_count": 20,
   "metadata": {
    "ExecuteTime": {
     "end_time": "2020-02-11T15:22:20.848334Z",
     "start_time": "2020-02-11T15:22:20.842458Z"
    }
   },
   "outputs": [
    {
     "data": {
      "text/plain": [
       "[ReglessQubit(0x1245a0198),\n",
       " ReglessQubit(0x1245a05c0),\n",
       " ReglessQubit(0x1245a0d30),\n",
       " ReglessQubit(0x1245a0e48),\n",
       " ReglessQubit(0x1245a00b8)]"
      ]
     },
     "execution_count": 20,
     "metadata": {},
     "output_type": "execute_result"
    }
   ],
   "source": [
    "qc.qubits"
   ]
  },
  {
   "cell_type": "code",
   "execution_count": 21,
   "metadata": {
    "ExecuteTime": {
     "end_time": "2020-02-11T15:22:20.858245Z",
     "start_time": "2020-02-11T15:22:20.851627Z"
    }
   },
   "outputs": [
    {
     "data": {
      "text/plain": [
       "[ReglessClbit(0x1245a0588),\n",
       " ReglessClbit(0x1245a0c18),\n",
       " ReglessClbit(0x1245a0cf8)]"
      ]
     },
     "execution_count": 21,
     "metadata": {},
     "output_type": "execute_result"
    }
   ],
   "source": [
    "qc.clbits"
   ]
  },
  {
   "cell_type": "code",
   "execution_count": 22,
   "metadata": {
    "ExecuteTime": {
     "end_time": "2020-02-11T15:22:20.867707Z",
     "start_time": "2020-02-11T15:22:20.861217Z"
    }
   },
   "outputs": [
    {
     "data": {
      "text/plain": [
       "set()"
      ]
     },
     "execution_count": 22,
     "metadata": {},
     "output_type": "execute_result"
    }
   ],
   "source": [
    "qc.qregs"
   ]
  },
  {
   "cell_type": "code",
   "execution_count": 23,
   "metadata": {
    "ExecuteTime": {
     "end_time": "2020-02-11T15:22:20.877060Z",
     "start_time": "2020-02-11T15:22:20.871276Z"
    }
   },
   "outputs": [
    {
     "data": {
      "text/plain": [
       "set()"
      ]
     },
     "execution_count": 23,
     "metadata": {},
     "output_type": "execute_result"
    }
   ],
   "source": [
    "qc.cregs"
   ]
  },
  {
   "cell_type": "code",
   "execution_count": 24,
   "metadata": {
    "ExecuteTime": {
     "end_time": "2020-02-11T15:22:20.886494Z",
     "start_time": "2020-02-11T15:22:20.880107Z"
    }
   },
   "outputs": [
    {
     "data": {
      "text/plain": [
       "<qiskit.circuit.instructionset.InstructionSet at 0x1245986a0>"
      ]
     },
     "execution_count": 24,
     "metadata": {},
     "output_type": "execute_result"
    }
   ],
   "source": [
    "qc.h(0)"
   ]
  },
  {
   "cell_type": "code",
   "execution_count": 25,
   "metadata": {
    "ExecuteTime": {
     "end_time": "2020-02-11T15:22:20.898427Z",
     "start_time": "2020-02-11T15:22:20.890037Z"
    }
   },
   "outputs": [
    {
     "name": "stdout",
     "output_type": "stream",
     "text": [
      "                               ┌───┐\n",
      "ReglessQubit(0x1245a0198)_: |0>┤ H ├\n",
      "                               └───┘\n",
      "ReglessQubit(0x1245a05c0)_: |0>─────\n",
      "                                    \n",
      "ReglessQubit(0x1245a0d30)_: |0>─────\n",
      "                                    \n",
      "ReglessQubit(0x1245a0e48)_: |0>─────\n",
      "                                    \n",
      "ReglessQubit(0x1245a00b8)_: |0>─────\n",
      "                                    \n",
      " ReglessClbit(0x1245a0588)_: 0 ═════\n",
      "                                    \n",
      " ReglessClbit(0x1245a0c18)_: 0 ═════\n",
      "                                    \n",
      " ReglessClbit(0x1245a0cf8)_: 0 ═════\n",
      "                                    \n"
     ]
    }
   ],
   "source": [
    "print(qc)"
   ]
  },
  {
   "cell_type": "code",
   "execution_count": 26,
   "metadata": {
    "ExecuteTime": {
     "end_time": "2020-02-11T15:22:20.908241Z",
     "start_time": "2020-02-11T15:22:20.901217Z"
    }
   },
   "outputs": [],
   "source": [
    "dag = qk.converters.circuit_to_dag(qc)"
   ]
  },
  {
   "cell_type": "code",
   "execution_count": 27,
   "metadata": {
    "ExecuteTime": {
     "end_time": "2020-02-11T15:22:21.146624Z",
     "start_time": "2020-02-11T15:22:20.911215Z"
    }
   },
   "outputs": [
    {
     "data": {
      "image/png": "[encoded data removed]",
      "text/plain": [
       "<PIL.PngImagePlugin.PngImageFile image mode=RGBA size=2601x288 at 0x12468FEB8>"
      ]
     },
     "execution_count": 27,
     "metadata": {},
     "output_type": "execute_result"
    }
   ],
   "source": [
    "dag.draw()"
   ]
  },
  {
   "cell_type": "code",
   "execution_count": 28,
   "metadata": {
    "ExecuteTime": {
     "end_time": "2020-02-11T15:22:21.155487Z",
     "start_time": "2020-02-11T15:22:21.149308Z"
    }
   },
   "outputs": [
    {
     "data": {
      "text/plain": [
       "[{'graph': <qiskit.dagcircuit.dagcircuit.DAGCircuit at 0x1246f5550>,\n",
       "  'partition': [[ReglessQubit(0x1245a0198)]]}]"
      ]
     },
     "execution_count": 28,
     "metadata": {},
     "output_type": "execute_result"
    }
   ],
   "source": [
    "list(dag.layers())"
   ]
  },
  {
   "cell_type": "code",
   "execution_count": 29,
   "metadata": {
    "ExecuteTime": {
     "end_time": "2020-02-11T15:22:21.163412Z",
     "start_time": "2020-02-11T15:22:21.157996Z"
    }
   },
   "outputs": [
    {
     "data": {
      "text/plain": [
       "QuantumRegister(3, 'foo')"
      ]
     },
     "execution_count": 29,
     "metadata": {},
     "output_type": "execute_result"
    }
   ],
   "source": [
    "qc.mark_bits((0,2,4), 'foo')"
   ]
  },
  {
   "cell_type": "code",
   "execution_count": 30,
   "metadata": {
    "ExecuteTime": {
     "end_time": "2020-02-11T15:22:21.169819Z",
     "start_time": "2020-02-11T15:22:21.165483Z"
    },
    "scrolled": true
   },
   "outputs": [
    {
     "data": {
      "text/plain": [
       "{QuantumRegister(3, 'foo')}"
      ]
     },
     "execution_count": 30,
     "metadata": {},
     "output_type": "execute_result"
    }
   ],
   "source": [
    "qc.qregs"
   ]
  },
  {
   "cell_type": "code",
   "execution_count": 31,
   "metadata": {
    "ExecuteTime": {
     "end_time": "2020-02-11T15:22:21.177878Z",
     "start_time": "2020-02-11T15:22:21.172631Z"
    }
   },
   "outputs": [
    {
     "data": {
      "text/plain": [
       "[ReglessQubit(0x1245a0198),\n",
       " ReglessQubit(0x1245a0d30),\n",
       " ReglessQubit(0x1245a00b8)]"
      ]
     },
     "execution_count": 31,
     "metadata": {},
     "output_type": "execute_result"
    }
   ],
   "source": [
    "list(qc.qregs)[0][:]"
   ]
  },
  {
   "cell_type": "code",
   "execution_count": 32,
   "metadata": {
    "ExecuteTime": {
     "end_time": "2020-02-11T15:22:21.186291Z",
     "start_time": "2020-02-11T15:22:21.180001Z"
    }
   },
   "outputs": [
    {
     "name": "stdout",
     "output_type": "stream",
     "text": [
      "                               ┌───┐\n",
      "ReglessQubit(0x1246fdc18)_: |0>┤ H ├\n",
      "                               ├───┤\n",
      "ReglessQubit(0x1246fdc50)_: |0>┤ H ├\n",
      "                               ├───┤\n",
      "ReglessQubit(0x1246fdc88)_: |0>┤ H ├\n",
      "                               ├───┤\n",
      "ReglessQubit(0x1246fdcc0)_: |0>┤ H ├\n",
      "                               ├───┤\n",
      "ReglessQubit(0x1246fdcf8)_: |0>┤ H ├\n",
      "                               └───┘\n"
     ]
    }
   ],
   "source": [
    "h_broad = qk.QuantumCircuit(5)\n",
    "h_broad.h(h_broad.qubits)\n",
    "print(h_broad)"
   ]
  },
  {
   "cell_type": "code",
   "execution_count": 33,
   "metadata": {
    "ExecuteTime": {
     "end_time": "2020-02-11T15:22:21.198512Z",
     "start_time": "2020-02-11T15:22:21.188812Z"
    }
   },
   "outputs": [
    {
     "name": "stdout",
     "output_type": "stream",
     "text": [
      "                                                   \n",
      "ReglessQubit(0x124702128)_: |0>──■─────────────────\n",
      "                               ┌─┴─┐               \n",
      "ReglessQubit(0x124702160)_: |0>┤ X ├──■────────────\n",
      "                               └───┘┌─┴─┐          \n",
      "ReglessQubit(0x1247022e8)_: |0>─────┤ X ├──■───────\n",
      "                                    └───┘┌─┴─┐     \n",
      "ReglessQubit(0x1247020b8)_: |0>──────────┤ X ├──■──\n",
      "                                         └───┘┌─┴─┐\n",
      "ReglessQubit(0x124702208)_: |0>───────────────┤ X ├\n",
      "                                              └───┘\n"
     ]
    }
   ],
   "source": [
    "cx_tile = qk.QuantumCircuit(5)\n",
    "for i in range(4):\n",
    "    cx_tile.cx(i, i+1)\n",
    "print(cx_tile)"
   ]
  },
  {
   "cell_type": "code",
   "execution_count": 34,
   "metadata": {
    "ExecuteTime": {
     "end_time": "2020-02-11T15:22:21.934630Z",
     "start_time": "2020-02-11T15:22:21.200659Z"
    }
   },
   "outputs": [
    {
     "data": {
      "text/plain": [
       "<qiskit.circuit.instructionset.InstructionSet at 0x125b34ac8>"
      ]
     },
     "execution_count": 34,
     "metadata": {},
     "output_type": "execute_result"
    }
   ],
   "source": [
    "th = qk.circuit.Parameter('theta')\n",
    "qc = qk.QuantumCircuit(5,1)\n",
    "qc.append(h_broad, range(5))"
   ]
  },
  {
   "cell_type": "code",
   "execution_count": 35,
   "metadata": {
    "ExecuteTime": {
     "end_time": "2020-02-11T15:22:21.942323Z",
     "start_time": "2020-02-11T15:22:21.936365Z"
    }
   },
   "outputs": [
    {
     "name": "stdout",
     "output_type": "stream",
     "text": [
      "                               ┌───────────┐\n",
      "ReglessQubit(0x1247029e8)_: |0>┤0          ├\n",
      "                               │           │\n",
      "ReglessQubit(0x124702c50)_: |0>┤1          ├\n",
      "                               │           │\n",
      "ReglessQubit(0x124702ac8)_: |0>┤2 Circuit2 ├\n",
      "                               │           │\n",
      "ReglessQubit(0x124702a90)_: |0>┤3          ├\n",
      "                               │           │\n",
      "ReglessQubit(0x125b19320)_: |0>┤4          ├\n",
      "                               └───────────┘\n",
      " ReglessClbit(0x125b19160)_: 0 ═════════════\n",
      "                                            \n"
     ]
    }
   ],
   "source": [
    "print(qc)"
   ]
  },
  {
   "cell_type": "code",
   "execution_count": 36,
   "metadata": {
    "ExecuteTime": {
     "end_time": "2020-02-11T15:22:21.949530Z",
     "start_time": "2020-02-11T15:22:21.945057Z"
    }
   },
   "outputs": [
    {
     "data": {
      "text/plain": [
       "ReglessQubit(0x1246fdc18)"
      ]
     },
     "execution_count": 36,
     "metadata": {},
     "output_type": "execute_result"
    }
   ],
   "source": [
    "h_broad.data[0][1][0]"
   ]
  },
  {
   "cell_type": "code",
   "execution_count": null,
   "metadata": {},
   "outputs": [],
   "source": []
  }
 ],
 "metadata": {
  "kernelspec": {
   "display_name": "qiskit-terra",
   "language": "python",
   "name": "qiskit-terra"
  },
  "language_info": {
   "codemirror_mode": {
    "name": "ipython",
    "version": 3
   },
   "file_extension": ".py",
   "mimetype": "text/x-python",
   "name": "python",
   "nbconvert_exporter": "python",
   "pygments_lexer": "ipython3",
   "version": "3.5.6"
  }
 },
 "nbformat": 4,
 "nbformat_minor": 2
}
